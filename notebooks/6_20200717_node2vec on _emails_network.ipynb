{
 "cells": [
  {
   "cell_type": "markdown",
   "metadata": {},
   "source": [
    "# $node2vec$ on emails data"
   ]
  },
  {
   "cell_type": "code",
   "execution_count": 1,
   "metadata": {},
   "outputs": [],
   "source": [
    "# Import path to source directory (bit of a hack in Jupyter)\n",
    "import sys\n",
    "import os\n",
    "pwd = %pwd\n",
    "sys.path.append(os.path.join(pwd, os.path.join('..', 'src')))\n",
    "\n",
    "# Ensure modules are reloaded on any change (very useful when developing code on the fly)\n",
    "%load_ext autoreload\n",
    "%autoreload 2"
   ]
  },
  {
   "cell_type": "code",
   "execution_count": 2,
   "metadata": {},
   "outputs": [],
   "source": [
    "import warnings\n",
    "warnings.filterwarnings(action='ignore', category=UserWarning, module='gensim')\n",
    "\n",
    "import pandas as pd \n",
    "import numpy as np\n",
    "import networkx as nx"
   ]
  },
  {
   "cell_type": "code",
   "execution_count": 3,
   "metadata": {},
   "outputs": [],
   "source": [
    "from datetime import datetime"
   ]
  },
  {
   "cell_type": "markdown",
   "metadata": {},
   "source": [
    "## Data reading"
   ]
  },
  {
   "cell_type": "code",
   "execution_count": 4,
   "metadata": {},
   "outputs": [],
   "source": [
    "edges = pd.read_csv('../data/emails/edges.csv', header=None, names=('from','to'))\n",
    "labels = pd.read_csv('../data/emails/labels.csv', header=None, \n",
    "                     names=('node','label'))\n",
    "labels_list = list(labels['label'].unique())\n",
    "\n",
    "n_clusters = len(labels['label'].unique())"
   ]
  },
  {
   "cell_type": "code",
   "execution_count": 5,
   "metadata": {},
   "outputs": [],
   "source": [
    "G = nx.Graph()\n",
    "G.add_nodes_from(labels['node'])\n",
    "\n",
    "for i, row in edges.iterrows():\n",
    "    G.add_edge(row['from'],row['to'], weight=1)"
   ]
  },
  {
   "cell_type": "markdown",
   "metadata": {},
   "source": [
    "## Data visualisation"
   ]
  },
  {
   "cell_type": "code",
   "execution_count": 6,
   "metadata": {},
   "outputs": [],
   "source": [
    "import matplotlib.pyplot as plt"
   ]
  },
  {
   "cell_type": "markdown",
   "metadata": {},
   "source": [
    "__All departments' members distribution__"
   ]
  },
  {
   "cell_type": "code",
   "execution_count": 7,
   "metadata": {},
   "outputs": [
    {
     "data": {
      "image/png": "[encoded data removed]",
      "text/plain": [
       "<Figure size 720x576 with 1 Axes>"
      ]
     },
     "metadata": {
      "needs_background": "light"
     },
     "output_type": "display_data"
    }
   ],
   "source": [
    "# all departments' members distribution\n",
    "performance = []\n",
    "dep_freq = labels['label'].value_counts()\n",
    "objects = range(42)\n",
    "for i in objects:\n",
    "    performance.append(dep_freq[i])\n",
    "y_pos = np.arange(len(objects))\n",
    "\n",
    "plt.figure(figsize=[10,8])\n",
    "plt.bar(y_pos, performance, align='center', alpha=0.5)\n",
    "plt.xticks(y_pos, objects)\n",
    "plt.ylabel('Number of members')\n",
    "plt.xlabel('Departments')\n",
    "plt.title('Number of members in all departments')\n",
    "\n",
    "plt.show()"
   ]
  },
  {
   "cell_type": "markdown",
   "metadata": {},
   "source": [
    "__Ten biggest departments distribution__"
   ]
  },
  {
   "cell_type": "code",
   "execution_count": 8,
   "metadata": {},
   "outputs": [],
   "source": [
    "dep_nunique = labels.groupby('label')['node'].nunique().sort_values(ascending=False)\n",
    "ten_deps = dep_nunique.head(10)\n",
    "\n",
    "# pick up of the ten biggest departments memebers\n",
    "nodes = []\n",
    "deps = []\n",
    "nodes_dict = {}\n",
    "\n",
    "for index, row in labels.iterrows():\n",
    "    if (row['label'] in ten_deps):\n",
    "        nodes.append(row['node'])\n",
    "        deps.append(row['label'])\n",
    "        nodes_dict[row['node']] = row['label']\n",
    "\n",
    "ten_departments = pd.DataFrame(list(zip(nodes, deps)), \n",
    "               columns =['node', 'label']) \n",
    "dep_freq = labels['label'].value_counts()\n",
    "ten_dep_freq = ten_departments['label'].value_counts()"
   ]
  },
  {
   "cell_type": "code",
   "execution_count": 9,
   "metadata": {},
   "outputs": [],
   "source": [
    "# edges for ten departments\n",
    "toes = []\n",
    "froms = []\n",
    "\n",
    "for index, row in edges.iterrows():\n",
    "    if (row['from'] in nodes_dict and row['to'] in nodes_dict):\n",
    "        toes.append(row['to'])\n",
    "        froms.append(row['from'])\n",
    " \n",
    "ten_edges = pd.DataFrame(list(zip(froms, toes)), \n",
    "               columns =['from', 'to']) "
   ]
  },
  {
   "cell_type": "code",
   "execution_count": 10,
   "metadata": {},
   "outputs": [
    {
     "data": {
      "image/png": "[encoded data removed]",
      "text/plain": [
       "<Figure size 720x576 with 1 Axes>"
      ]
     },
     "metadata": {
      "needs_background": "light"
     },
     "output_type": "display_data"
    }
   ],
   "source": [
    "# ten departments' member distribution\n",
    "ten_performance = []\n",
    "ten_objects = ten_dep_freq.index\n",
    "ten_objects = ten_objects.sort_values()\n",
    "ten_objects.sort\n",
    "\n",
    "for i in ten_objects:\n",
    "    ten_performance.append(ten_dep_freq[i])\n",
    "\n",
    "ten_y_pos = np.arange(len(ten_objects))\n",
    "\n",
    "plt.figure(figsize=[10,8])\n",
    "plt.bar(ten_y_pos, ten_performance, align='center', alpha=0.5)\n",
    "plt.xticks(ten_y_pos, ten_objects)\n",
    "plt.ylabel('Number of members')\n",
    "plt.xlabel('Departments')\n",
    "plt.title('Number of members in ten biggest departments')\n",
    "\n",
    "plt.show()"
   ]
  },
  {
   "cell_type": "markdown",
   "metadata": {},
   "source": [
    "## Input/output of the original graph for Gephi "
   ]
  },
  {
   "cell_type": "code",
   "execution_count": 11,
   "metadata": {},
   "outputs": [],
   "source": [
    "#input for Gephi - graph representation of ten biggest departments\n",
    "with open('../gephi/ten_data.gdf', 'w') as f:\n",
    "    f.write('nodedef>name VARCHAR,department VARCHAR,label VARCHAR\\n')\n",
    "    for index, row in ten_departments.iterrows():\n",
    "        f.write('{},{}\\n'.format(row['node'], row['label']))\n",
    "    f.write('edgedef>source VARCHAR,target VARCHAR, weight DOUBLE\\n')\n",
    "    for index, row in ten_edges.iterrows(): \n",
    "        f.write('{},{}\\n'.format(row['from'], row['to'], 1))"
   ]
  },
  {
   "cell_type": "markdown",
   "metadata": {},
   "source": [
    "## Cluster analisys"
   ]
  },
  {
   "cell_type": "code",
   "execution_count": 12,
   "metadata": {},
   "outputs": [],
   "source": [
    "from objfun_node2vec import N2V"
   ]
  },
  {
   "cell_type": "code",
   "execution_count": 13,
   "metadata": {},
   "outputs": [],
   "source": [
    "#initialization\n",
    "n2v = N2V('../data/emails/edges.csv',\n",
    "            '../data/emails/labels.csv')"
   ]
  },
  {
   "cell_type": "code",
   "execution_count": 14,
   "metadata": {},
   "outputs": [],
   "source": [
    "n2v_ten = N2V('../data/emails/ten_edges.csv',\n",
    "            '../data/emails/ten_labels.csv')"
   ]
  },
  {
   "cell_type": "markdown",
   "metadata": {},
   "source": [
    "Calculation time comparision:"
   ]
  },
  {
   "cell_type": "code",
   "execution_count": 15,
   "metadata": {},
   "outputs": [],
   "source": [
    "import time"
   ]
  },
  {
   "cell_type": "code",
   "execution_count": 16,
   "metadata": {},
   "outputs": [
    {
     "name": "stdout",
     "output_type": "stream",
     "text": [
      "Time: 225.2926881313324  sec\n",
      "Value: 0.4157692894056561\n"
     ]
    }
   ],
   "source": [
    "start_time = time.time()\n",
    "value_full = n2v.evaluate(p=0.5, q=2, num_walks=10, len_walks=100, window=5)\n",
    "print (\"Time:\", time.time() - start_time, ' sec')\n",
    "print (\"Value:\", value_full)"
   ]
  },
  {
   "cell_type": "code",
   "execution_count": 17,
   "metadata": {},
   "outputs": [
    {
     "name": "stdout",
     "output_type": "stream",
     "text": [
      "Time: 53.80012011528015  sec\n",
      "Value: 0.7351861270230906\n"
     ]
    }
   ],
   "source": [
    "start_time = time.time()\n",
    "value_ten = n2v_ten.evaluate(p=0.5, q=2, num_walks=10, len_walks=100, window=5)\n",
    "print (\"Time:\", time.time() - start_time, ' sec')\n",
    "print (\"Value:\", value_ten)"
   ]
  },
  {
   "cell_type": "markdown",
   "metadata": {},
   "source": [
    "## Parameters sensitivity"
   ]
  },
  {
   "cell_type": "code",
   "execution_count": 18,
   "metadata": {},
   "outputs": [],
   "source": [
    "def write_to_file(res,param):\n",
    "    now = datetime.now()\n",
    "    current_time = now.strftime('%Y%m%d_emails_ten_'+param)\n",
    "    filename = '../results/' + current_time + '.csv'\n",
    "    res.to_csv(filename)"
   ]
  },
  {
   "cell_type": "code",
   "execution_count": 19,
   "metadata": {},
   "outputs": [],
   "source": [
    "res = pd.DataFrame(columns=['walk_length','num_walks',\n",
    "                            'p','q',\n",
    "                            'window',\n",
    "                            'adj_rand'])\n",
    "\n",
    "for walk_length in range(20,120,10):\n",
    "    for num_walks in [10]:\n",
    "        for p in [1]:\n",
    "            for q in [1]:\n",
    "                for window in [10]:\n",
    "                    adj_rand = n2v.evaluate(p,q,num_walks,walk_length,window)\n",
    "\n",
    "                    res = res.append({'walk_length':walk_length,\n",
    "                                      'num_walks':num_walks,\n",
    "                                      'p':p,'q':q,\n",
    "                                      'window':window,\n",
    "                                      'adj_rand':adj_rand},ignore_index=True)\n",
    "                            \n",
    "write_to_file(res,'walk_length')"
   ]
  },
  {
   "cell_type": "code",
   "execution_count": 20,
   "metadata": {},
   "outputs": [],
   "source": [
    "res = pd.DataFrame(columns=['walk_length','num_walks',\n",
    "                            'p','q',\n",
    "                            'window',\n",
    "                            'adj_rand'])\n",
    "\n",
    "for walk_length in [80]:\n",
    "    for num_walks in range(6,24,2):\n",
    "        for p in [1]:\n",
    "            for q in [1]:\n",
    "                for window in [10]:\n",
    "                    adj_rand = n2v.evaluate(p,q,num_walks,walk_length,window)\n",
    "\n",
    "                    res = res.append({'walk_length':walk_length,\n",
    "                                      'num_walks':num_walks,\n",
    "                                      'p':p,'q':q,\n",
    "                                      'window':window,\n",
    "                                      'adj_rand':adj_rand},ignore_index=True)\n",
    "                            \n",
    "write_to_file(res,'num_walks')"
   ]
  },
  {
   "cell_type": "code",
   "execution_count": 21,
   "metadata": {},
   "outputs": [],
   "source": [
    "res = pd.DataFrame(columns=['walk_length','num_walks',\n",
    "                            'p','q',\n",
    "                            'window',\n",
    "                            'adj_rand'])\n",
    "\n",
    "for walk_length in [80]:\n",
    "    for num_walks in [10]:\n",
    "        for p in [0.25, 0.5, 1., 2., 4]:\n",
    "            for q in [1.0]:\n",
    "                for window in [10]:\n",
    "                    adj_rand = n2v.evaluate(p,q,num_walks,walk_length,window)\n",
    "\n",
    "                    res = res.append({'walk_length':walk_length,\n",
    "                                      'num_walks':num_walks,\n",
    "                                      'p':p,'q':q,\n",
    "                                      'window':window,\n",
    "                                      'adj_rand':adj_rand},ignore_index=True)\n",
    "                            \n",
    "write_to_file(res,'p')"
   ]
  },
  {
   "cell_type": "code",
   "execution_count": 22,
   "metadata": {},
   "outputs": [],
   "source": [
    "res = pd.DataFrame(columns=['walk_length','num_walks',\n",
    "                            'p','q',\n",
    "                            'window',\n",
    "                            'adj_rand'])\n",
    "\n",
    "for walk_length in [80]:\n",
    "    for num_walks in [10]:\n",
    "        for p in [1.0]:\n",
    "            for q in [0.25, 0.5, 1., 2., 4]:\n",
    "                for window in [10]:\n",
    "                    adj_rand = n2v.evaluate(p,q,num_walks,walk_length,window)\n",
    "\n",
    "                    res = res.append({'walk_length':walk_length,\n",
    "                                      'num_walks':num_walks,\n",
    "                                      'p':p,'q':q,\n",
    "                                      'window':window,\n",
    "                                      'adj_rand':adj_rand},ignore_index=True)\n",
    "                            \n",
    "write_to_file(res,'q')"
   ]
  },
  {
   "cell_type": "code",
   "execution_count": 23,
   "metadata": {},
   "outputs": [],
   "source": [
    "res = pd.DataFrame(columns=['walk_length','num_walks',\n",
    "                            'p','q',\n",
    "                            'window',\n",
    "                            'adj_rand'])\n",
    "\n",
    "for walk_length in [80]:\n",
    "    for num_walks in [10]:\n",
    "        for p in [1.0]:\n",
    "            for q in [1.0]:\n",
    "                for window in range(2,22,2):\n",
    "                    adj_rand = n2v.evaluate(p,q,num_walks,walk_length,window)\n",
    "\n",
    "                    res = res.append({'walk_length':walk_length,\n",
    "                                      'num_walks':num_walks,\n",
    "                                      'p':p,'q':q,\n",
    "                                      'window':window,\n",
    "                                      'adj_rand':adj_rand},ignore_index=True)\n",
    "                            \n",
    "write_to_file(res,'window')"
   ]
  },
  {
   "cell_type": "markdown",
   "metadata": {},
   "source": [
    "## Visualization of the results"
   ]
  },
  {
   "cell_type": "code",
   "execution_count": 24,
   "metadata": {},
   "outputs": [],
   "source": [
    "now = datetime.now()\n",
    "current_time = now.strftime('%Y%m%d')\n",
    "\n",
    "res_walk_length = pd.read_csv('../results/'+current_time+'_emails_ten_walk_length.csv')\n",
    "res_num_walks = pd.read_csv('../results/'+current_time+'_emails_ten_num_walks.csv')\n",
    "res_p = pd.read_csv('../results/'+current_time+'_emails_ten_p.csv')\n",
    "res_q = pd.read_csv('../results/'+current_time+'_emails_ten_q.csv')\n",
    "res_window = pd.read_csv('../results/'+current_time+'_emails_ten_window.csv')"
   ]
  },
  {
   "cell_type": "code",
   "execution_count": 25,
   "metadata": {},
   "outputs": [],
   "source": [
    "x1 = res_walk_length['walk_length']\n",
    "y1 = res_walk_length['adj_rand'].tolist()\n",
    "\n",
    "x2 = res_num_walks['num_walks']\n",
    "y2 = res_num_walks['adj_rand'].tolist()\n",
    "\n",
    "x3 = res_window['window']\n",
    "y3 = res_window['adj_rand'].tolist()\n",
    "\n",
    "x4 = res_p['p']\n",
    "y4 = res_p['adj_rand'].tolist()\n",
    "\n",
    "x5 = res_q['q']\n",
    "y5 = res_q['adj_rand'].tolist()"
   ]
  },
  {
   "cell_type": "code",
   "execution_count": 26,
   "metadata": {},
   "outputs": [
    {
     "data": {
      "text/plain": [
       "Text(0, 0.5, 'score')"
      ]
     },
     "execution_count": 26,
     "metadata": {},
     "output_type": "execute_result"
    },
    {
     "data": {
      "image/png": "[encoded data removed]",
      "text/plain": [
       "<Figure size 1080x720 with 5 Axes>"
      ]
     },
     "metadata": {
      "needs_background": "light"
     },
     "output_type": "display_data"
    }
   ],
   "source": [
    "plt.figure(figsize=[15,10])\n",
    "\n",
    "plt.subplot(231)\n",
    "plt.gca().spines['top'].set_visible(False)\n",
    "plt.gca().spines['right'].set_visible(False)\n",
    "plt.plot(x1,y1,'o-',label='RAND')\n",
    "plt.legend(loc='best', frameon=True)\n",
    "plt.xlabel('walk_length')\n",
    "plt.ylabel('score')\n",
    "\n",
    "plt.subplot(232)\n",
    "plt.gca().spines['top'].set_visible(False)\n",
    "plt.gca().spines['right'].set_visible(False)\n",
    "plt.plot(x2,y2,'o-',label='RAND')\n",
    "plt.legend(loc='best', frameon=True)\n",
    "plt.xlabel('num_walks')\n",
    "plt.ylabel('score')\n",
    "\n",
    "plt.subplot(233)\n",
    "plt.gca().spines['top'].set_visible(False)\n",
    "plt.gca().spines['right'].set_visible(False)\n",
    "plt.plot(x3,y3,'o-',label='RAND')\n",
    "plt.legend(loc='best', frameon=True)\n",
    "plt.xlabel('window')\n",
    "plt.ylabel('score')\n",
    "\n",
    "plt.subplot(234)\n",
    "plt.gca().spines['top'].set_visible(False)\n",
    "plt.gca().spines['right'].set_visible(False)\n",
    "plt.plot(x4,y4,'o-',label='RAND')\n",
    "plt.xscale('log', basex=2)\n",
    "plt.legend(loc='best', frameon=True)\n",
    "plt.xlabel('p')\n",
    "plt.ylabel('score')\n",
    "\n",
    "plt.subplot(235)\n",
    "plt.gca().spines['top'].set_visible(False)\n",
    "plt.gca().spines['right'].set_visible(False)\n",
    "plt.plot(x5,y5,'o-',label='RAND')\n",
    "plt.xscale('log', basex=2)\n",
    "plt.legend(loc='best', frameon=True)\n",
    "plt.xlabel('q')\n",
    "plt.ylabel('score')"
   ]
  },
  {
   "cell_type": "code",
   "execution_count": 28,
   "metadata": {},
   "outputs": [],
   "source": [
    "data = pd.read_csv(\"../results/emails_params.csv\") "
   ]
  },
  {
   "cell_type": "code",
   "execution_count": 36,
   "metadata": {},
   "outputs": [
    {
     "data": {
      "text/html": [
       "<div>\n",
       "<style scoped>\n",
       "    .dataframe tbody tr th:only-of-type {\n",
       "        vertical-align: middle;\n",
       "    }\n",
       "\n",
       "    .dataframe tbody tr th {\n",
       "        vertical-align: top;\n",
       "    }\n",
       "\n",
       "    .dataframe thead th {\n",
       "        text-align: right;\n",
       "    }\n",
       "</style>\n",
       "<table border=\"1\" class=\"dataframe\">\n",
       "  <thead>\n",
       "    <tr style=\"text-align: right;\">\n",
       "      <th></th>\n",
       "      <th>walk_length</th>\n",
       "      <th>num_walks</th>\n",
       "      <th>p</th>\n",
       "      <th>q</th>\n",
       "      <th>window</th>\n",
       "      <th>adj_rand</th>\n",
       "    </tr>\n",
       "  </thead>\n",
       "  <tbody>\n",
       "    <tr>\n",
       "      <td>18</td>\n",
       "      <td>80.0</td>\n",
       "      <td>10.0</td>\n",
       "      <td>2.0</td>\n",
       "      <td>1.00</td>\n",
       "      <td>10.0</td>\n",
       "      <td>0.493557</td>\n",
       "    </tr>\n",
       "    <tr>\n",
       "      <td>10</td>\n",
       "      <td>80.0</td>\n",
       "      <td>10.0</td>\n",
       "      <td>1.0</td>\n",
       "      <td>0.25</td>\n",
       "      <td>10.0</td>\n",
       "      <td>0.471517</td>\n",
       "    </tr>\n",
       "    <tr>\n",
       "      <td>26</td>\n",
       "      <td>80.0</td>\n",
       "      <td>18.0</td>\n",
       "      <td>1.0</td>\n",
       "      <td>1.00</td>\n",
       "      <td>10.0</td>\n",
       "      <td>0.461952</td>\n",
       "    </tr>\n",
       "    <tr>\n",
       "      <td>25</td>\n",
       "      <td>80.0</td>\n",
       "      <td>16.0</td>\n",
       "      <td>1.0</td>\n",
       "      <td>1.00</td>\n",
       "      <td>10.0</td>\n",
       "      <td>0.452113</td>\n",
       "    </tr>\n",
       "    <tr>\n",
       "      <td>23</td>\n",
       "      <td>80.0</td>\n",
       "      <td>12.0</td>\n",
       "      <td>1.0</td>\n",
       "      <td>1.00</td>\n",
       "      <td>10.0</td>\n",
       "      <td>0.447016</td>\n",
       "    </tr>\n",
       "  </tbody>\n",
       "</table>\n",
       "</div>"
      ],
      "text/plain": [
       "    walk_length  num_walks    p     q  window  adj_rand\n",
       "18         80.0       10.0  2.0  1.00    10.0  0.493557\n",
       "10         80.0       10.0  1.0  0.25    10.0  0.471517\n",
       "26         80.0       18.0  1.0  1.00    10.0  0.461952\n",
       "25         80.0       16.0  1.0  1.00    10.0  0.452113\n",
       "23         80.0       12.0  1.0  1.00    10.0  0.447016"
      ]
     },
     "execution_count": 36,
     "metadata": {},
     "output_type": "execute_result"
    }
   ],
   "source": [
    "data.sort_values(by=['adj_rand'], ascending=False).head(5)"
   ]
  },
  {
   "cell_type": "markdown",
   "metadata": {},
   "source": [
    "## Conclusion"
   ]
  },
  {
   "cell_type": "markdown",
   "metadata": {},
   "source": [
    "- $node2vec$ on emails data detects half of the clusters right, i.e. the Rand index is about $0.49$."
   ]
  }
 ],
 "metadata": {
  "kernelspec": {
   "display_name": "Python 3",
   "language": "python",
   "name": "python3"
  },
  "language_info": {
   "codemirror_mode": {
    "name": "ipython",
    "version": 3
   },
   "file_extension": ".py",
   "mimetype": "text/x-python",
   "name": "python",
   "nbconvert_exporter": "python",
   "pygments_lexer": "ipython3",
   "version": "3.7.4"
  }
 },
 "nbformat": 4,
 "nbformat_minor": 2
}
