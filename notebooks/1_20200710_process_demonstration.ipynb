{
 "cells": [
  {
   "cell_type": "markdown",
   "metadata": {},
   "source": [
    "# The functionality of node2vec and the objective function"
   ]
  },
  {
   "cell_type": "markdown",
   "metadata": {},
   "source": [
    "The node2vec functionality is illustrated."
   ]
  },
  {
   "cell_type": "code",
   "execution_count": 1,
   "metadata": {},
   "outputs": [],
   "source": [
    "# Import path to source directory (bit of a hack in Jupyter)\n",
    "import sys\n",
    "import os\n",
    "pwd = %pwd\n",
    "sys.path.append(os.path.join(pwd, os.path.join('..', 'src')))\n",
    "\n",
    "# Ensure modules are reloaded on any change (very useful when developing code on the fly)\n",
    "%load_ext autoreload\n",
    "%autoreload 2"
   ]
  },
  {
   "cell_type": "code",
   "execution_count": 48,
   "metadata": {},
   "outputs": [],
   "source": [
    "%matplotlib inline\n",
    "import warnings\n",
    "warnings.filterwarnings('ignore')\n",
    "\n",
    "import pandas as pd\n",
    "import numpy as np\n",
    "import networkx as nx\n",
    "\n",
    "from sklearn.cluster import KMeans\n",
    "from sklearn import metrics\n",
    "\n",
    "from stellargraph.data import BiasedRandomWalk\n",
    "from stellargraph import StellarGraph \n",
    "from gensim.models import Word2Vec\n",
    "# file with some visual functions \n",
    "from visual import *"
   ]
  },
  {
   "cell_type": "code",
   "execution_count": 3,
   "metadata": {},
   "outputs": [],
   "source": [
    "# Global default values\n",
    "dimensions = 128\n",
    "walk_length = 80\n",
    "num_walks = 10\n",
    "p = 1.0\n",
    "q = 1.0\n",
    "workers = 4\n",
    "\n",
    "window = 10\n",
    "min_count = 1\n",
    "seed = 42"
   ]
  },
  {
   "cell_type": "markdown",
   "metadata": {},
   "source": [
    "## 1. Proof that the node2vec algorithm works on realy easy data"
   ]
  },
  {
   "cell_type": "markdown",
   "metadata": {},
   "source": [
    "### $node2vec$ run\n",
    "The function creating emedding models."
   ]
  },
  {
   "cell_type": "code",
   "execution_count": 4,
   "metadata": {},
   "outputs": [],
   "source": [
    "def count_embeddings(G,labels,dimensions,walk_length,num_walks,p,q,workers,window,min_count,seed):\n",
    "    rw = BiasedRandomWalk(StellarGraph.from_networkx(G))\n",
    "    weighted_walks = rw.run(\n",
    "        nodes=G.nodes(), # root nodes\n",
    "        length=walk_length,    # maximum length of a random walk\n",
    "        n=num_walks,          # number of random walks per root node \n",
    "        p=p,         # Defines (unormalised) probability, 1/p, of returning to source node\n",
    "        q=q,         # Defines (unormalised) probability, 1/q, for moving away from source node\n",
    "        weighted=False, #for weighted random walks\n",
    "        seed=42        # random seed fixed for reproducibility\n",
    "    )\n",
    "    print(\"Number of random walks: {}\".format(len(weighted_walks)))\n",
    "    \n",
    "    # converting integers into string, otherwise Word2Vec throws an error \n",
    "    weighted_walks = [[str(j) for j in i] for i in weighted_walks]\n",
    "    \n",
    "    model = Word2Vec(weighted_walks, size=128, window=window, min_count=min_count, \n",
    "                     sg=1, workers=1, iter=1)\n",
    "    \n",
    "    model_nodes = list(model.wv.vocab)\n",
    "    \n",
    "    sorted_labels = []\n",
    "    for i in model_nodes:\n",
    "        sorted_labels.append(labels.loc[int(i)]['label'])\n",
    "\n",
    "    return model,model_nodes,sorted_labels"
   ]
  },
  {
   "cell_type": "markdown",
   "metadata": {},
   "source": [
    "### Data read and the graph visualisation\n",
    "The data set consists of the 5 groups. Edges are only between nodes within a group. "
   ]
  },
  {
   "cell_type": "code",
   "execution_count": 40,
   "metadata": {},
   "outputs": [],
   "source": [
    "pure_edges = pd.read_csv('../data/clear_cluster_test/pure_edges.csv', header=None, names=('from','to'))\n",
    "labels = pd.read_csv('../data/clear_cluster_test/labels.csv', header=None, \n",
    "                     names=('node','label'))\n",
    "labels_list = list(labels['label'].unique())\n",
    "\n",
    "n_clusters = len(labels['label'].unique())"
   ]
  },
  {
   "cell_type": "code",
   "execution_count": 41,
   "metadata": {},
   "outputs": [],
   "source": [
    "pure_G = nx.Graph()\n",
    "pure_G.add_nodes_from(labels['node'])\n",
    "for i, row in pure_edges.iterrows():\n",
    "    pure_G.add_edge(row['from'],row['to'], weight=1)"
   ]
  },
  {
   "cell_type": "code",
   "execution_count": 42,
   "metadata": {},
   "outputs": [
    {
     "data": {
      "image/png": "[encoded data removed]",
      "text/plain": [
       "<Figure size 432x288 with 1 Axes>"
      ]
     },
     "metadata": {},
     "output_type": "display_data"
    }
   ],
   "source": [
    "pos = nx.spring_layout(pure_G)\n",
    "nx.draw(pure_G, pos=pos, with_labels=True, seed=seed)"
   ]
  },
  {
   "cell_type": "markdown",
   "metadata": {},
   "source": [
    "### $node2vec$ model "
   ]
  },
  {
   "cell_type": "code",
   "execution_count": 43,
   "metadata": {},
   "outputs": [
    {
     "name": "stdout",
     "output_type": "stream",
     "text": [
      "Number of random walks: 250\n"
     ]
    }
   ],
   "source": [
    "pure_model,pure_model_nodes,pure_sorted_labels = count_embeddings(pure_G,labels,dimensions,\n",
    "                                                                  walk_length,num_walks,p,q,workers,\n",
    "                                                                  window,min_count,seed)"
   ]
  },
  {
   "cell_type": "markdown",
   "metadata": {},
   "source": [
    "Embeddings"
   ]
  },
  {
   "cell_type": "code",
   "execution_count": 44,
   "metadata": {},
   "outputs": [
    {
     "data": {
      "text/plain": [
       "array([[ 0.26363614,  0.12937744, -0.2792538 , ..., -0.03295454,\n",
       "        -0.04424897, -0.19926961],\n",
       "       [ 0.28906396,  0.12981641, -0.29150233, ..., -0.02912262,\n",
       "        -0.04804998, -0.2105661 ],\n",
       "       [ 0.24341209,  0.23137827, -0.19631234, ..., -0.04473389,\n",
       "        -0.05347573, -0.1352158 ],\n",
       "       ...,\n",
       "       [ 0.34004784,  0.3725168 , -0.19099824, ..., -0.07431618,\n",
       "        -0.07806014, -0.13893756],\n",
       "       [ 0.24675766,  0.24772549, -0.17926362, ..., -0.04353056,\n",
       "        -0.05180124, -0.12217439],\n",
       "       [ 0.27296042,  0.14206755, -0.27709   , ..., -0.03694797,\n",
       "        -0.05049235, -0.20382221]], dtype=float32)"
      ]
     },
     "execution_count": 44,
     "metadata": {},
     "output_type": "execute_result"
    }
   ],
   "source": [
    "pure_model.wv.vectors"
   ]
  },
  {
   "cell_type": "markdown",
   "metadata": {},
   "source": [
    "### Clustretisation\n"
   ]
  },
  {
   "cell_type": "markdown",
   "metadata": {},
   "source": [
    "#### Clusterization by $most\\_similar()$ function\n",
    "This step was made to show that the $node2vec$ algorithm works indeed."
   ]
  },
  {
   "cell_type": "code",
   "execution_count": 45,
   "metadata": {},
   "outputs": [
    {
     "name": "stdout",
     "output_type": "stream",
     "text": [
      "word  0\n",
      "3\n",
      "4\n",
      "1\n",
      "2\n",
      "word  5\n",
      "9\n",
      "7\n",
      "8\n",
      "6\n",
      "word  10\n",
      "13\n",
      "14\n",
      "11\n",
      "12\n",
      "word  15\n",
      "17\n",
      "18\n",
      "19\n",
      "16\n",
      "word  20\n",
      "23\n",
      "24\n",
      "22\n",
      "21\n"
     ]
    }
   ],
   "source": [
    "keys = list(range(0,24,5)) # the first node of each group\n",
    "\n",
    "embedding_clusters = []\n",
    "word_clusters = []\n",
    "for word in keys:\n",
    "    print('word ',word)\n",
    "    embeddings = []\n",
    "    words = []\n",
    "    embeddings.append(pure_model[str(word)]) # adding vector of the first(key) node\n",
    "    words.append(str(word)) # adding vector of the first(key) node\n",
    "    for similar_word, prob in pure_model.most_similar(str(word), topn=4): # или добавлять в зависимости от вероятности \n",
    "        words.append(similar_word)\n",
    "        print(similar_word)\n",
    "        embeddings.append(pure_model[similar_word])\n",
    "    embedding_clusters.append(embeddings)\n",
    "    word_clusters.append(words)"
   ]
  },
  {
   "cell_type": "code",
   "execution_count": 46,
   "metadata": {},
   "outputs": [
    {
     "data": {
      "image/png": "[encoded data removed]",
      "text/plain": [
       "<Figure size 720x504 with 1 Axes>"
      ]
     },
     "metadata": {
      "needs_background": "light"
     },
     "output_type": "display_data"
    }
   ],
   "source": [
    "model_en_2d = to2d(embedding_clusters,5)\n",
    "colors = assign_colors(pure_model_nodes,labels)\n",
    "tsne_plot_similar_words('Similar nodes', labels_list, model_en_2d, word_clusters, colors, 0.7)"
   ]
  },
  {
   "cell_type": "markdown",
   "metadata": {},
   "source": [
    "#### Clusterization by $kmeans$"
   ]
  },
  {
   "cell_type": "code",
   "execution_count": 12,
   "metadata": {},
   "outputs": [
    {
     "name": "stdout",
     "output_type": "stream",
     "text": [
      "cluster:  0\n",
      "16\n",
      "19\n",
      "17\n",
      "15\n",
      "18\n",
      "cluster:  1\n",
      "11\n",
      "13\n",
      "10\n",
      "12\n",
      "14\n",
      "cluster:  2\n",
      "20\n",
      "21\n",
      "23\n",
      "24\n",
      "22\n",
      "cluster:  3\n",
      "2\n",
      "3\n",
      "0\n",
      "4\n",
      "1\n",
      "cluster:  4\n",
      "8\n",
      "6\n",
      "5\n",
      "7\n",
      "9\n"
     ]
    }
   ],
   "source": [
    "# Initalize a k-means object and use it to extract centroids\n",
    "kmeans_clustering = KMeans(n_clusters=n_clusters, random_state=seed)\n",
    "pure_idx = kmeans_clustering.fit_predict(pure_model.wv.vectors)\n",
    "pure_word_centroid_map = dict(zip(pure_model.wv.index2word, pure_idx))\n",
    "\n",
    "for cluster in [0,1,2,3,4]:\n",
    "    print('cluster: ', cluster)\n",
    "    for i in pure_word_centroid_map:\n",
    "        if pure_word_centroid_map[i] == cluster:\n",
    "            print(i)"
   ]
  },
  {
   "cell_type": "code",
   "execution_count": 13,
   "metadata": {},
   "outputs": [
    {
     "data": {
      "text/plain": [
       "[4, 4, 2, 1, 1, 2, 3, 0, 0, 3, 4, 0, 0, 3, 2, 1, 3, 3, 2, 1, 4, 1, 0, 2, 4]"
      ]
     },
     "execution_count": 13,
     "metadata": {},
     "output_type": "execute_result"
    }
   ],
   "source": [
    "pure_known_labels = []\n",
    "for i in pure_model.wv.index2word:\n",
    "    pure_known_labels.append(labels.loc[int(i)]['label'])\n",
    "    \n",
    "pure_known_labels"
   ]
  },
  {
   "cell_type": "code",
   "execution_count": 14,
   "metadata": {},
   "outputs": [
    {
     "data": {
      "text/plain": [
       "array([2, 2, 1, 4, 4, 1, 0, 3, 3, 0, 2, 3, 3, 0, 1, 4, 0, 0, 1, 4, 2, 4,\n",
       "       3, 1, 2])"
      ]
     },
     "execution_count": 14,
     "metadata": {},
     "output_type": "execute_result"
    }
   ],
   "source": [
    "pure_idx "
   ]
  },
  {
   "cell_type": "markdown",
   "metadata": {},
   "source": [
    "### A score to clasters assessing\n",
    "The Rand index - $adjusted\\_rand\\_score()$"
   ]
  },
  {
   "cell_type": "code",
   "execution_count": 15,
   "metadata": {},
   "outputs": [
    {
     "data": {
      "text/plain": [
       "1.0"
      ]
     },
     "execution_count": 15,
     "metadata": {},
     "output_type": "execute_result"
    }
   ],
   "source": [
    "metrics.adjusted_rand_score([0,0,1,1,2,2],[1,1,0,0,2,2])"
   ]
  },
  {
   "cell_type": "code",
   "execution_count": 16,
   "metadata": {},
   "outputs": [
    {
     "data": {
      "text/plain": [
       "0.32432432432432434"
      ]
     },
     "execution_count": 16,
     "metadata": {},
     "output_type": "execute_result"
    }
   ],
   "source": [
    "metrics.adjusted_rand_score([0,0,0,1,1,1],[0,0,1,1,1,1])"
   ]
  },
  {
   "cell_type": "code",
   "execution_count": 17,
   "metadata": {},
   "outputs": [
    {
     "data": {
      "text/plain": [
       "1.0"
      ]
     },
     "execution_count": 17,
     "metadata": {},
     "output_type": "execute_result"
    }
   ],
   "source": [
    "pure_adj_score = metrics.adjusted_rand_score(pure_known_labels,pure_idx)\n",
    "pure_adj_score"
   ]
  },
  {
   "cell_type": "markdown",
   "metadata": {},
   "source": [
    "## 2. Run node2vec on more complex data"
   ]
  },
  {
   "cell_type": "markdown",
   "metadata": {},
   "source": [
    "### Data read\n",
    "Run on the test data. "
   ]
  },
  {
   "cell_type": "code",
   "execution_count": 25,
   "metadata": {},
   "outputs": [],
   "source": [
    "edges = pd.read_csv('../data/clear_cluster_test/one_eighth.csv', header=None, names=('from','to'))\n",
    "labels = pd.read_csv('../data/clear_cluster_test/labels.csv', header=None, \n",
    "                     names=('node','label'))\n",
    "labels_list = list(labels['label'].unique())\n",
    "\n",
    "n_clusters = len(labels['label'].unique())"
   ]
  },
  {
   "cell_type": "markdown",
   "metadata": {},
   "source": [
    "The graph construction on the data"
   ]
  },
  {
   "cell_type": "code",
   "execution_count": 26,
   "metadata": {},
   "outputs": [],
   "source": [
    "G = nx.Graph()\n",
    "G.add_nodes_from(labels['node'])\n",
    "\n",
    "for i, row in edges.iterrows():\n",
    "    G.add_edge(row['from'],row['to'], weight=1)"
   ]
  },
  {
   "cell_type": "code",
   "execution_count": 37,
   "metadata": {},
   "outputs": [
    {
     "data": {
      "image/png": "[encoded data removed]",
      "text/plain": [
       "<Figure size 432x288 with 1 Axes>"
      ]
     },
     "metadata": {},
     "output_type": "display_data"
    }
   ],
   "source": [
    "pos = nx.spring_layout(G)\n",
    "nx.draw(G, pos=pos, with_labels=True, seed=seed)"
   ]
  },
  {
   "cell_type": "code",
   "execution_count": 28,
   "metadata": {},
   "outputs": [
    {
     "name": "stdout",
     "output_type": "stream",
     "text": [
      "Number of random walks: 250\n"
     ]
    }
   ],
   "source": [
    "model, model_nodes, sorted_labels = count_embeddings(G,labels,dimensions,\n",
    "                                                     walk_length,num_walks,p,q,workers,\n",
    "                                                     window,min_count,seed)"
   ]
  },
  {
   "cell_type": "code",
   "execution_count": 29,
   "metadata": {},
   "outputs": [
    {
     "name": "stdout",
     "output_type": "stream",
     "text": [
      "cluster:  0\n",
      "15\n",
      "16\n",
      "18\n",
      "17\n",
      "19\n",
      "cluster:  1\n",
      "14\n",
      "11\n",
      "cluster:  2\n",
      "20\n",
      "21\n",
      "22\n",
      "6\n",
      "9\n",
      "24\n",
      "7\n",
      "23\n",
      "8\n",
      "cluster:  3\n",
      "10\n",
      "13\n",
      "12\n",
      "cluster:  4\n",
      "5\n",
      "0\n",
      "2\n",
      "1\n",
      "3\n",
      "4\n"
     ]
    }
   ],
   "source": [
    "# Initalize a k-means object and use it to extract centroids\n",
    "kmeans_clustering = KMeans(n_clusters=n_clusters, random_state=seed)\n",
    "idx = kmeans_clustering.fit_predict(model.wv.vectors)\n",
    "word_centroid_map = dict(zip(model.wv.index2word, idx))\n",
    "\n",
    "for cluster in [0,1,2,3,4]:\n",
    "    print('cluster: ', cluster)\n",
    "    for i in word_centroid_map:\n",
    "        if word_centroid_map[i] == cluster:\n",
    "            print(i)"
   ]
  },
  {
   "cell_type": "code",
   "execution_count": 30,
   "metadata": {},
   "outputs": [
    {
     "name": "stdout",
     "output_type": "stream",
     "text": [
      "[4, 2, 3, 1, 0, 4, 3, 0, 0, 4, 2, 1, 1, 2, 3, 4, 1, 3, 2, 2, 4, 0, 1, 0, 3]\n"
     ]
    }
   ],
   "source": [
    "known_labels = []\n",
    "for i in model.wv.index2word:\n",
    "    known_labels.append(labels.loc[int(i)]['label'])\n",
    "    \n",
    "print(known_labels)"
   ]
  },
  {
   "cell_type": "code",
   "execution_count": 31,
   "metadata": {},
   "outputs": [
    {
     "data": {
      "text/plain": [
       "0.625"
      ]
     },
     "execution_count": 31,
     "metadata": {},
     "output_type": "execute_result"
    }
   ],
   "source": [
    "adj_score = metrics.adjusted_rand_score(known_labels,idx)\n",
    "adj_score"
   ]
  },
  {
   "cell_type": "markdown",
   "metadata": {},
   "source": [
    "## 3. Conclusions"
   ]
  },
  {
   "cell_type": "markdown",
   "metadata": {},
   "source": [
    "- The $node2vec$ algorithm can detect the right groups of the nodes. \n",
    "- The Rand index score is suitable since it compares labels independently to the labels naming. \n",
    "\n"
   ]
  }
 ],
 "metadata": {
  "kernelspec": {
   "display_name": "Python 3",
   "language": "python",
   "name": "python3"
  },
  "language_info": {
   "codemirror_mode": {
    "name": "ipython",
    "version": 3
   },
   "file_extension": ".py",
   "mimetype": "text/x-python",
   "name": "python",
   "nbconvert_exporter": "python",
   "pygments_lexer": "ipython3",
   "version": "3.7.4"
  }
 },
 "nbformat": 4,
 "nbformat_minor": 2
}
