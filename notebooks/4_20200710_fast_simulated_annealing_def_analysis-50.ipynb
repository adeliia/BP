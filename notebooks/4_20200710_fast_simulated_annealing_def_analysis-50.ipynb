{
 "cells": [
  {
   "cell_type": "code",
   "execution_count": 1,
   "metadata": {},
   "outputs": [],
   "source": [
    "# Import path to source directory (bit of a hack in Jupyter)\n",
    "import sys\n",
    "import os\n",
    "pwd = %pwd\n",
    "sys.path.append(os.path.join(pwd, os.path.join('..', 'src')))\n",
    "\n",
    "# Ensure modules are reloaded on any change (very useful when developing code on the fly)\n",
    "%load_ext autoreload\n",
    "%autoreload 2"
   ]
  },
  {
   "cell_type": "code",
   "execution_count": 2,
   "metadata": {},
   "outputs": [],
   "source": [
    "# Import external libraries\n",
    "import numpy as np\n",
    "import pandas as pd\n",
    "from tqdm.notebook import tqdm\n",
    "\n",
    "import matplotlib\n",
    "%matplotlib inline\n",
    "import matplotlib.pyplot as plt\n",
    "import seaborn as sns\n",
    "sns.set()"
   ]
  },
  {
   "cell_type": "code",
   "execution_count": 3,
   "metadata": {},
   "outputs": [],
   "source": [
    "# initialization\n",
    "from objfun_node2vec import N2V\n",
    "n2v = N2V('../data/clear_cluster_test/one_eighth.csv',\n",
    "            '../data/clear_cluster_test/labels.csv')"
   ]
  },
  {
   "cell_type": "code",
   "execution_count": 4,
   "metadata": {},
   "outputs": [],
   "source": [
    "from heur_fsa import FastSimulatedAnnealing\n",
    "from heur_aux import Correction, CauchyMutation"
   ]
  },
  {
   "cell_type": "code",
   "execution_count": 5,
   "metadata": {},
   "outputs": [],
   "source": [
    "NUM_RUNS = 50 \n",
    "maxeval = 50 "
   ]
  },
  {
   "cell_type": "code",
   "execution_count": 6,
   "metadata": {},
   "outputs": [],
   "source": [
    "default_params=[1., 10, 80, 10]"
   ]
  },
  {
   "cell_type": "markdown",
   "metadata": {},
   "source": [
    "### Node2vec optimisation using FSA"
   ]
  },
  {
   "cell_type": "code",
   "execution_count": 7,
   "metadata": {},
   "outputs": [],
   "source": [
    "def experiment_fsa(of, maxeval, num_runs, T0, n0, alpha, r, params):\n",
    "    results = []\n",
    "    for i in tqdm(range(num_runs), 'Testing T0={}, n0={}, alpha={}, r={}'.format(T0, n0, alpha, r)):\n",
    "        mut = CauchyMutation(r=r, correction=Correction(of))\n",
    "        result = FastSimulatedAnnealing(of, maxeval=maxeval, \n",
    "                                        T0=T0, n0=n0, alpha=alpha, \n",
    "                                        mutation=mut,params=params).search()\n",
    "        result['run'] = i\n",
    "        result['heur'] = 'FSA_{}_{}_{}_{}'.format(T0, n0, alpha, r) # name of the heuristic\n",
    "        result['T0'] = T0\n",
    "        result['n0'] = n0\n",
    "        result['alpha'] = alpha\n",
    "        result['r'] = r\n",
    "        results.append(result)\n",
    "    \n",
    "    return pd.DataFrame(results, columns=['heur', 'run', 'T0', 'n0', 'alpha', 'r', 'best_x', 'best_y', 'neval'])"
   ]
  },
  {
   "cell_type": "code",
   "execution_count": 8,
   "metadata": {},
   "outputs": [
    {
     "data": {
      "application/vnd.jupyter.widget-view+json": {
       "model_id": "db384898e16f4effaaa83e3dfffd654f",
       "version_major": 2,
       "version_minor": 0
      },
      "text/plain": [
       "HBox(children=(IntProgress(value=0, description='Testing T0=1e-10, n0=1, alpha=2, r=0.5', max=50, style=Progre…"
      ]
     },
     "metadata": {},
     "output_type": "display_data"
    },
    {
     "name": "stdout",
     "output_type": "stream",
     "text": [
      "\n"
     ]
    },
    {
     "data": {
      "application/vnd.jupyter.widget-view+json": {
       "model_id": "d5a24eb09fc44102aafb33c1e630d147",
       "version_major": 2,
       "version_minor": 0
      },
      "text/plain": [
       "HBox(children=(IntProgress(value=0, description='Testing T0=0.01, n0=1, alpha=2, r=0.5', max=50, style=Progres…"
      ]
     },
     "metadata": {},
     "output_type": "display_data"
    },
    {
     "name": "stdout",
     "output_type": "stream",
     "text": [
      "\n"
     ]
    },
    {
     "data": {
      "application/vnd.jupyter.widget-view+json": {
       "model_id": "a3661b7e6b3e4a7e88bbd3952ee9fdaf",
       "version_major": 2,
       "version_minor": 0
      },
      "text/plain": [
       "HBox(children=(IntProgress(value=0, description='Testing T0=1, n0=1, alpha=2, r=0.5', max=50, style=ProgressSt…"
      ]
     },
     "metadata": {},
     "output_type": "display_data"
    },
    {
     "name": "stdout",
     "output_type": "stream",
     "text": [
      "\n"
     ]
    },
    {
     "data": {
      "application/vnd.jupyter.widget-view+json": {
       "model_id": "5e261bac71d2440fa4b9ad240e04c5f6",
       "version_major": 2,
       "version_minor": 0
      },
      "text/plain": [
       "HBox(children=(IntProgress(value=0, description='Testing T0=inf, n0=1, alpha=2, r=0.5', max=50, style=Progress…"
      ]
     },
     "metadata": {},
     "output_type": "display_data"
    },
    {
     "name": "stdout",
     "output_type": "stream",
     "text": [
      "\n"
     ]
    }
   ],
   "source": [
    "table_fsa = pd.DataFrame()\n",
    "\n",
    "for T0 in [1e-10, 1e-2, 1, np.inf]: \n",
    "    res = experiment_fsa(of=n2v, maxeval=maxeval, num_runs=NUM_RUNS, \n",
    "                         T0=T0, n0=1, alpha=2, r=0.5,params=default_params)\n",
    "    table_fsa = pd.concat([table_fsa, res], axis=0)"
   ]
  },
  {
   "cell_type": "code",
   "execution_count": 9,
   "metadata": {},
   "outputs": [
    {
     "data": {
      "text/html": [
       "<div>\n",
       "<style scoped>\n",
       "    .dataframe tbody tr th:only-of-type {\n",
       "        vertical-align: middle;\n",
       "    }\n",
       "\n",
       "    .dataframe tbody tr th {\n",
       "        vertical-align: top;\n",
       "    }\n",
       "\n",
       "    .dataframe thead th {\n",
       "        text-align: right;\n",
       "    }\n",
       "</style>\n",
       "<table border=\"1\" class=\"dataframe\">\n",
       "  <thead>\n",
       "    <tr style=\"text-align: right;\">\n",
       "      <th></th>\n",
       "      <th>heur</th>\n",
       "      <th>run</th>\n",
       "      <th>T0</th>\n",
       "      <th>n0</th>\n",
       "      <th>alpha</th>\n",
       "      <th>r</th>\n",
       "      <th>best_x</th>\n",
       "      <th>best_y</th>\n",
       "      <th>neval</th>\n",
       "    </tr>\n",
       "  </thead>\n",
       "  <tbody>\n",
       "    <tr>\n",
       "      <td>0</td>\n",
       "      <td>FSA_1e-10_1_2_0.5</td>\n",
       "      <td>0</td>\n",
       "      <td>1.000000e-10</td>\n",
       "      <td>1</td>\n",
       "      <td>2</td>\n",
       "      <td>0.5</td>\n",
       "      <td>[[1.6187386246265323], 1.0, 10, 80, 10]</td>\n",
       "      <td>0.450382</td>\n",
       "      <td>inf</td>\n",
       "    </tr>\n",
       "    <tr>\n",
       "      <td>1</td>\n",
       "      <td>FSA_1e-10_1_2_0.5</td>\n",
       "      <td>1</td>\n",
       "      <td>1.000000e-10</td>\n",
       "      <td>1</td>\n",
       "      <td>2</td>\n",
       "      <td>0.5</td>\n",
       "      <td>[[0.14831554722947535], 1.0, 10, 80, 10]</td>\n",
       "      <td>0.406250</td>\n",
       "      <td>inf</td>\n",
       "    </tr>\n",
       "    <tr>\n",
       "      <td>2</td>\n",
       "      <td>FSA_1e-10_1_2_0.5</td>\n",
       "      <td>2</td>\n",
       "      <td>1.000000e-10</td>\n",
       "      <td>1</td>\n",
       "      <td>2</td>\n",
       "      <td>0.5</td>\n",
       "      <td>[[1.0009825134048458], 1.0, 10, 80, 10]</td>\n",
       "      <td>0.377778</td>\n",
       "      <td>inf</td>\n",
       "    </tr>\n",
       "    <tr>\n",
       "      <td>3</td>\n",
       "      <td>FSA_1e-10_1_2_0.5</td>\n",
       "      <td>3</td>\n",
       "      <td>1.000000e-10</td>\n",
       "      <td>1</td>\n",
       "      <td>2</td>\n",
       "      <td>0.5</td>\n",
       "      <td>[[0.32646452930716313], 1.0, 10, 80, 10]</td>\n",
       "      <td>0.375000</td>\n",
       "      <td>inf</td>\n",
       "    </tr>\n",
       "    <tr>\n",
       "      <td>4</td>\n",
       "      <td>FSA_1e-10_1_2_0.5</td>\n",
       "      <td>4</td>\n",
       "      <td>1.000000e-10</td>\n",
       "      <td>1</td>\n",
       "      <td>2</td>\n",
       "      <td>0.5</td>\n",
       "      <td>[3.590537838471784, 1.0, 10, 80, 10]</td>\n",
       "      <td>0.425781</td>\n",
       "      <td>inf</td>\n",
       "    </tr>\n",
       "  </tbody>\n",
       "</table>\n",
       "</div>"
      ],
      "text/plain": [
       "                heur  run            T0  n0  alpha    r  \\\n",
       "0  FSA_1e-10_1_2_0.5    0  1.000000e-10   1      2  0.5   \n",
       "1  FSA_1e-10_1_2_0.5    1  1.000000e-10   1      2  0.5   \n",
       "2  FSA_1e-10_1_2_0.5    2  1.000000e-10   1      2  0.5   \n",
       "3  FSA_1e-10_1_2_0.5    3  1.000000e-10   1      2  0.5   \n",
       "4  FSA_1e-10_1_2_0.5    4  1.000000e-10   1      2  0.5   \n",
       "\n",
       "                                     best_x    best_y  neval  \n",
       "0   [[1.6187386246265323], 1.0, 10, 80, 10]  0.450382    inf  \n",
       "1  [[0.14831554722947535], 1.0, 10, 80, 10]  0.406250    inf  \n",
       "2   [[1.0009825134048458], 1.0, 10, 80, 10]  0.377778    inf  \n",
       "3  [[0.32646452930716313], 1.0, 10, 80, 10]  0.375000    inf  \n",
       "4      [3.590537838471784, 1.0, 10, 80, 10]  0.425781    inf  "
      ]
     },
     "execution_count": 9,
     "metadata": {},
     "output_type": "execute_result"
    }
   ],
   "source": [
    "table_fsa.head()"
   ]
  },
  {
   "cell_type": "code",
   "execution_count": 10,
   "metadata": {},
   "outputs": [
    {
     "data": {
      "image/png": "[encoded data removed]",
      "text/plain": [
       "<Figure size 432x288 with 1 Axes>"
      ]
     },
     "metadata": {
      "needs_background": "light"
     },
     "output_type": "display_data"
    }
   ],
   "source": [
    "ax = sns.boxplot(x=\"T0\", y=\"best_y\", data=table_fsa)"
   ]
  },
  {
   "cell_type": "code",
   "execution_count": 63,
   "metadata": {},
   "outputs": [
    {
     "data": {
      "text/plain": [
       "array([inf,  1.])"
      ]
     },
     "execution_count": 63,
     "metadata": {},
     "output_type": "execute_result"
    }
   ],
   "source": [
    "table_fsa['neval'].unique()"
   ]
  },
  {
   "cell_type": "markdown",
   "metadata": {},
   "source": [
    "\n",
    "FSA did not reach the optimal value in $683$ experiments, and in $17$ cases it hit the optima at the first run. \n",
    "\n",
    "So, the MNE value is not credible in that case. "
   ]
  },
  {
   "cell_type": "code",
   "execution_count": 64,
   "metadata": {},
   "outputs": [
    {
     "data": {
      "text/plain": [
       "inf    683\n",
       "1.0     17\n",
       "Name: neval, dtype: int64"
      ]
     },
     "execution_count": 64,
     "metadata": {},
     "output_type": "execute_result"
    }
   ],
   "source": [
    "table_fsa['neval'].value_counts()"
   ]
  },
  {
   "cell_type": "code",
   "execution_count": 62,
   "metadata": {},
   "outputs": [
    {
     "data": {
      "text/html": [
       "<div>\n",
       "<style scoped>\n",
       "    .dataframe tbody tr th:only-of-type {\n",
       "        vertical-align: middle;\n",
       "    }\n",
       "\n",
       "    .dataframe tbody tr th {\n",
       "        vertical-align: top;\n",
       "    }\n",
       "\n",
       "    .dataframe thead th {\n",
       "        text-align: right;\n",
       "    }\n",
       "</style>\n",
       "<table border=\"1\" class=\"dataframe\">\n",
       "  <thead>\n",
       "    <tr style=\"text-align: right;\">\n",
       "      <th></th>\n",
       "      <th>heur</th>\n",
       "      <th>run</th>\n",
       "      <th>T0</th>\n",
       "      <th>n0</th>\n",
       "      <th>alpha</th>\n",
       "      <th>r</th>\n",
       "      <th>best_x</th>\n",
       "      <th>best_y</th>\n",
       "      <th>neval</th>\n",
       "    </tr>\n",
       "  </thead>\n",
       "  <tbody>\n",
       "    <tr>\n",
       "      <td>45</td>\n",
       "      <td>FSA_1e-10_1_2_0.5</td>\n",
       "      <td>45</td>\n",
       "      <td>1.000000e-10</td>\n",
       "      <td>1</td>\n",
       "      <td>2</td>\n",
       "      <td>0.50</td>\n",
       "      <td>[0.5301305157941014, 1.0, 10, 80, 10]</td>\n",
       "      <td>1.0</td>\n",
       "      <td>1.0</td>\n",
       "    </tr>\n",
       "    <tr>\n",
       "      <td>4</td>\n",
       "      <td>FSA_1_1_2_0.5</td>\n",
       "      <td>4</td>\n",
       "      <td>1.000000e+00</td>\n",
       "      <td>1</td>\n",
       "      <td>2</td>\n",
       "      <td>0.50</td>\n",
       "      <td>[0.16119202051742665, 1.0, 10, 80, 10]</td>\n",
       "      <td>1.0</td>\n",
       "      <td>1.0</td>\n",
       "    </tr>\n",
       "    <tr>\n",
       "      <td>21</td>\n",
       "      <td>FSA_1e-10_3_2_0.5</td>\n",
       "      <td>21</td>\n",
       "      <td>1.000000e-10</td>\n",
       "      <td>3</td>\n",
       "      <td>2</td>\n",
       "      <td>0.50</td>\n",
       "      <td>[0.9614717247928732, 1.0, 10, 80, 10]</td>\n",
       "      <td>1.0</td>\n",
       "      <td>1.0</td>\n",
       "    </tr>\n",
       "    <tr>\n",
       "      <td>35</td>\n",
       "      <td>FSA_1e-10_3_2_0.5</td>\n",
       "      <td>35</td>\n",
       "      <td>1.000000e-10</td>\n",
       "      <td>3</td>\n",
       "      <td>2</td>\n",
       "      <td>0.50</td>\n",
       "      <td>[0.5971624967697298, 1.0, 10, 80, 10]</td>\n",
       "      <td>1.0</td>\n",
       "      <td>1.0</td>\n",
       "    </tr>\n",
       "    <tr>\n",
       "      <td>17</td>\n",
       "      <td>FSA_1e-10_5_2_0.5</td>\n",
       "      <td>17</td>\n",
       "      <td>1.000000e-10</td>\n",
       "      <td>5</td>\n",
       "      <td>2</td>\n",
       "      <td>0.50</td>\n",
       "      <td>[0.9133419365298909, 1.0, 10, 80, 10]</td>\n",
       "      <td>1.0</td>\n",
       "      <td>1.0</td>\n",
       "    </tr>\n",
       "    <tr>\n",
       "      <td>27</td>\n",
       "      <td>FSA_1e-10_5_2_0.5</td>\n",
       "      <td>27</td>\n",
       "      <td>1.000000e-10</td>\n",
       "      <td>5</td>\n",
       "      <td>2</td>\n",
       "      <td>0.50</td>\n",
       "      <td>[0.5081889455482225, 1.0, 10, 80, 10]</td>\n",
       "      <td>1.0</td>\n",
       "      <td>1.0</td>\n",
       "    </tr>\n",
       "    <tr>\n",
       "      <td>6</td>\n",
       "      <td>FSA_1e-10_10_2_0.5</td>\n",
       "      <td>6</td>\n",
       "      <td>1.000000e-10</td>\n",
       "      <td>10</td>\n",
       "      <td>2</td>\n",
       "      <td>0.50</td>\n",
       "      <td>[0.3570820400026937, 1.0, 10, 80, 10]</td>\n",
       "      <td>1.0</td>\n",
       "      <td>1.0</td>\n",
       "    </tr>\n",
       "    <tr>\n",
       "      <td>17</td>\n",
       "      <td>FSA_1e-10_10_2_0.5</td>\n",
       "      <td>17</td>\n",
       "      <td>1.000000e-10</td>\n",
       "      <td>10</td>\n",
       "      <td>2</td>\n",
       "      <td>0.50</td>\n",
       "      <td>[0.49962662066241004, 1.0, 10, 80, 10]</td>\n",
       "      <td>1.0</td>\n",
       "      <td>1.0</td>\n",
       "    </tr>\n",
       "    <tr>\n",
       "      <td>3</td>\n",
       "      <td>FSA_1e-10_5_2_0.01</td>\n",
       "      <td>3</td>\n",
       "      <td>1.000000e-10</td>\n",
       "      <td>5</td>\n",
       "      <td>2</td>\n",
       "      <td>0.01</td>\n",
       "      <td>[0.32049505723231153, 1.0, 10, 80, 10]</td>\n",
       "      <td>1.0</td>\n",
       "      <td>1.0</td>\n",
       "    </tr>\n",
       "    <tr>\n",
       "      <td>29</td>\n",
       "      <td>FSA_1e-10_5_2_0.01</td>\n",
       "      <td>29</td>\n",
       "      <td>1.000000e-10</td>\n",
       "      <td>5</td>\n",
       "      <td>2</td>\n",
       "      <td>0.01</td>\n",
       "      <td>[0.49573386493118576, 1.0, 10, 80, 10]</td>\n",
       "      <td>1.0</td>\n",
       "      <td>1.0</td>\n",
       "    </tr>\n",
       "    <tr>\n",
       "      <td>45</td>\n",
       "      <td>FSA_1e-10_5_2_0.01</td>\n",
       "      <td>45</td>\n",
       "      <td>1.000000e-10</td>\n",
       "      <td>5</td>\n",
       "      <td>2</td>\n",
       "      <td>0.01</td>\n",
       "      <td>[0.4575020603775304, 1.0, 10, 80, 10]</td>\n",
       "      <td>1.0</td>\n",
       "      <td>1.0</td>\n",
       "    </tr>\n",
       "    <tr>\n",
       "      <td>17</td>\n",
       "      <td>FSA_1e-10_5_2_0.1</td>\n",
       "      <td>17</td>\n",
       "      <td>1.000000e-10</td>\n",
       "      <td>5</td>\n",
       "      <td>2</td>\n",
       "      <td>0.10</td>\n",
       "      <td>[0.39161031040332483, 1.0, 10, 80, 10]</td>\n",
       "      <td>1.0</td>\n",
       "      <td>1.0</td>\n",
       "    </tr>\n",
       "    <tr>\n",
       "      <td>32</td>\n",
       "      <td>FSA_1e-10_5_2_0.1</td>\n",
       "      <td>32</td>\n",
       "      <td>1.000000e-10</td>\n",
       "      <td>5</td>\n",
       "      <td>2</td>\n",
       "      <td>0.10</td>\n",
       "      <td>[1.1028323754793825, 1.0, 10, 80, 10]</td>\n",
       "      <td>1.0</td>\n",
       "      <td>1.0</td>\n",
       "    </tr>\n",
       "    <tr>\n",
       "      <td>34</td>\n",
       "      <td>FSA_1e-10_5_2_0.1</td>\n",
       "      <td>34</td>\n",
       "      <td>1.000000e-10</td>\n",
       "      <td>5</td>\n",
       "      <td>2</td>\n",
       "      <td>0.10</td>\n",
       "      <td>[0.9286889437396599, 1.0, 10, 80, 10]</td>\n",
       "      <td>1.0</td>\n",
       "      <td>1.0</td>\n",
       "    </tr>\n",
       "    <tr>\n",
       "      <td>43</td>\n",
       "      <td>FSA_1e-10_5_2_0.1</td>\n",
       "      <td>43</td>\n",
       "      <td>1.000000e-10</td>\n",
       "      <td>5</td>\n",
       "      <td>2</td>\n",
       "      <td>0.10</td>\n",
       "      <td>[1.1177926964595666, 1.0, 10, 80, 10]</td>\n",
       "      <td>1.0</td>\n",
       "      <td>1.0</td>\n",
       "    </tr>\n",
       "    <tr>\n",
       "      <td>23</td>\n",
       "      <td>FSA_1e-10_5_2_0.25</td>\n",
       "      <td>23</td>\n",
       "      <td>1.000000e-10</td>\n",
       "      <td>5</td>\n",
       "      <td>2</td>\n",
       "      <td>0.25</td>\n",
       "      <td>[0.37268257082756095, 1.0, 10, 80, 10]</td>\n",
       "      <td>1.0</td>\n",
       "      <td>1.0</td>\n",
       "    </tr>\n",
       "    <tr>\n",
       "      <td>8</td>\n",
       "      <td>FSA_1e-10_5_2_0.75</td>\n",
       "      <td>8</td>\n",
       "      <td>1.000000e-10</td>\n",
       "      <td>5</td>\n",
       "      <td>2</td>\n",
       "      <td>0.75</td>\n",
       "      <td>[0.19171075337276733, 1.0, 10, 80, 10]</td>\n",
       "      <td>1.0</td>\n",
       "      <td>1.0</td>\n",
       "    </tr>\n",
       "  </tbody>\n",
       "</table>\n",
       "</div>"
      ],
      "text/plain": [
       "                  heur  run            T0  n0  alpha     r  \\\n",
       "45   FSA_1e-10_1_2_0.5   45  1.000000e-10   1      2  0.50   \n",
       "4        FSA_1_1_2_0.5    4  1.000000e+00   1      2  0.50   \n",
       "21   FSA_1e-10_3_2_0.5   21  1.000000e-10   3      2  0.50   \n",
       "35   FSA_1e-10_3_2_0.5   35  1.000000e-10   3      2  0.50   \n",
       "17   FSA_1e-10_5_2_0.5   17  1.000000e-10   5      2  0.50   \n",
       "27   FSA_1e-10_5_2_0.5   27  1.000000e-10   5      2  0.50   \n",
       "6   FSA_1e-10_10_2_0.5    6  1.000000e-10  10      2  0.50   \n",
       "17  FSA_1e-10_10_2_0.5   17  1.000000e-10  10      2  0.50   \n",
       "3   FSA_1e-10_5_2_0.01    3  1.000000e-10   5      2  0.01   \n",
       "29  FSA_1e-10_5_2_0.01   29  1.000000e-10   5      2  0.01   \n",
       "45  FSA_1e-10_5_2_0.01   45  1.000000e-10   5      2  0.01   \n",
       "17   FSA_1e-10_5_2_0.1   17  1.000000e-10   5      2  0.10   \n",
       "32   FSA_1e-10_5_2_0.1   32  1.000000e-10   5      2  0.10   \n",
       "34   FSA_1e-10_5_2_0.1   34  1.000000e-10   5      2  0.10   \n",
       "43   FSA_1e-10_5_2_0.1   43  1.000000e-10   5      2  0.10   \n",
       "23  FSA_1e-10_5_2_0.25   23  1.000000e-10   5      2  0.25   \n",
       "8   FSA_1e-10_5_2_0.75    8  1.000000e-10   5      2  0.75   \n",
       "\n",
       "                                    best_x  best_y  neval  \n",
       "45   [0.5301305157941014, 1.0, 10, 80, 10]     1.0    1.0  \n",
       "4   [0.16119202051742665, 1.0, 10, 80, 10]     1.0    1.0  \n",
       "21   [0.9614717247928732, 1.0, 10, 80, 10]     1.0    1.0  \n",
       "35   [0.5971624967697298, 1.0, 10, 80, 10]     1.0    1.0  \n",
       "17   [0.9133419365298909, 1.0, 10, 80, 10]     1.0    1.0  \n",
       "27   [0.5081889455482225, 1.0, 10, 80, 10]     1.0    1.0  \n",
       "6    [0.3570820400026937, 1.0, 10, 80, 10]     1.0    1.0  \n",
       "17  [0.49962662066241004, 1.0, 10, 80, 10]     1.0    1.0  \n",
       "3   [0.32049505723231153, 1.0, 10, 80, 10]     1.0    1.0  \n",
       "29  [0.49573386493118576, 1.0, 10, 80, 10]     1.0    1.0  \n",
       "45   [0.4575020603775304, 1.0, 10, 80, 10]     1.0    1.0  \n",
       "17  [0.39161031040332483, 1.0, 10, 80, 10]     1.0    1.0  \n",
       "32   [1.1028323754793825, 1.0, 10, 80, 10]     1.0    1.0  \n",
       "34   [0.9286889437396599, 1.0, 10, 80, 10]     1.0    1.0  \n",
       "43   [1.1177926964595666, 1.0, 10, 80, 10]     1.0    1.0  \n",
       "23  [0.37268257082756095, 1.0, 10, 80, 10]     1.0    1.0  \n",
       "8   [0.19171075337276733, 1.0, 10, 80, 10]     1.0    1.0  "
      ]
     },
     "execution_count": 62,
     "metadata": {},
     "output_type": "execute_result"
    }
   ],
   "source": [
    "table_fsa[table_fsa['neval']==1]"
   ]
  },
  {
   "cell_type": "code",
   "execution_count": 11,
   "metadata": {},
   "outputs": [],
   "source": [
    "def rel(x):\n",
    "    return len([n for n in x if n < np.inf])/len(x)\n",
    "\n",
    "def mne(x):\n",
    "    return np.mean([n for n in x if n < np.inf])\n",
    "\n",
    "def feo(x):\n",
    "    return mne(x)/rel(x)"
   ]
  },
  {
   "cell_type": "code",
   "execution_count": 12,
   "metadata": {},
   "outputs": [
    {
     "name": "stderr",
     "output_type": "stream",
     "text": [
      "C:\\Users\\Adeliia\\Anaconda3\\lib\\site-packages\\numpy\\core\\fromnumeric.py:3118: RuntimeWarning: Mean of empty slice.\n",
      "  out=out, **kwargs)\n",
      "C:\\Users\\Adeliia\\Anaconda3\\lib\\site-packages\\numpy\\core\\_methods.py:85: RuntimeWarning: invalid value encountered in double_scalars\n",
      "  ret = ret.dtype.type(ret / rcount)\n"
     ]
    },
    {
     "data": {
      "text/html": [
       "<div>\n",
       "<style scoped>\n",
       "    .dataframe tbody tr th:only-of-type {\n",
       "        vertical-align: middle;\n",
       "    }\n",
       "\n",
       "    .dataframe tbody tr th {\n",
       "        vertical-align: top;\n",
       "    }\n",
       "\n",
       "    .dataframe thead th {\n",
       "        text-align: right;\n",
       "    }\n",
       "</style>\n",
       "<table border=\"1\" class=\"dataframe\">\n",
       "  <thead>\n",
       "    <tr style=\"text-align: right;\">\n",
       "      <th></th>\n",
       "      <th>heur</th>\n",
       "      <th>T0</th>\n",
       "      <th>feo</th>\n",
       "      <th>mne</th>\n",
       "      <th>rel</th>\n",
       "    </tr>\n",
       "  </thead>\n",
       "  <tbody>\n",
       "    <tr>\n",
       "      <td>2</td>\n",
       "      <td>FSA_1e-10_1_2_0.5</td>\n",
       "      <td>1.000000e-10</td>\n",
       "      <td>50.0</td>\n",
       "      <td>1.0</td>\n",
       "      <td>0.02</td>\n",
       "    </tr>\n",
       "    <tr>\n",
       "      <td>0</td>\n",
       "      <td>FSA_0.01_1_2_0.5</td>\n",
       "      <td>1.000000e-02</td>\n",
       "      <td>NaN</td>\n",
       "      <td>NaN</td>\n",
       "      <td>0.00</td>\n",
       "    </tr>\n",
       "    <tr>\n",
       "      <td>1</td>\n",
       "      <td>FSA_1_1_2_0.5</td>\n",
       "      <td>1.000000e+00</td>\n",
       "      <td>50.0</td>\n",
       "      <td>1.0</td>\n",
       "      <td>0.02</td>\n",
       "    </tr>\n",
       "    <tr>\n",
       "      <td>3</td>\n",
       "      <td>FSA_inf_1_2_0.5</td>\n",
       "      <td>inf</td>\n",
       "      <td>NaN</td>\n",
       "      <td>NaN</td>\n",
       "      <td>0.00</td>\n",
       "    </tr>\n",
       "  </tbody>\n",
       "</table>\n",
       "</div>"
      ],
      "text/plain": [
       "                heur            T0   feo  mne   rel\n",
       "2  FSA_1e-10_1_2_0.5  1.000000e-10  50.0  1.0  0.02\n",
       "0   FSA_0.01_1_2_0.5  1.000000e-02   NaN  NaN  0.00\n",
       "1      FSA_1_1_2_0.5  1.000000e+00  50.0  1.0  0.02\n",
       "3    FSA_inf_1_2_0.5           inf   NaN  NaN  0.00"
      ]
     },
     "execution_count": 12,
     "metadata": {},
     "output_type": "execute_result"
    }
   ],
   "source": [
    "stats_fsa = table_fsa.pivot_table(\n",
    "    index=['heur', 'T0'],\n",
    "    \n",
    "    values=['neval'],\n",
    "    aggfunc=(rel, mne, feo)\n",
    ")['neval']\n",
    "stats_fsa = stats_fsa.reset_index()\n",
    "stats_fsa.sort_values(by=['T0'])"
   ]
  },
  {
   "cell_type": "markdown",
   "metadata": {},
   "source": [
    "### Can the best configuration ($T_0=1e-10$) be improved?"
   ]
  },
  {
   "cell_type": "code",
   "execution_count": 22,
   "metadata": {},
   "outputs": [
    {
     "name": "stdout",
     "output_type": "stream",
     "text": [
      "neval = inf\n",
      "best_x = [array([4.125]), 1.0, 10, 80, 10]\n",
      "best_y = 0.3333333333333333\n"
     ]
    }
   ],
   "source": [
    "# maxeval 1000\n",
    "heur = FastSimulatedAnnealing(n2v, maxeval=maxeval, T0=1e-10, n0=1, alpha=2, \n",
    "                              mutation=CauchyMutation(r=0.5, correction=Correction(n2v)),\n",
    "                             params=default_params)\n",
    "result = heur.search()\n",
    "print('neval = {}'.format(result['neval']))\n",
    "print('best_x = {}'.format(result['best_x']))\n",
    "print('best_y = {}'.format(result['best_y']))"
   ]
  },
  {
   "cell_type": "code",
   "execution_count": 23,
   "metadata": {},
   "outputs": [
    {
     "data": {
      "text/html": [
       "<div>\n",
       "<style scoped>\n",
       "    .dataframe tbody tr th:only-of-type {\n",
       "        vertical-align: middle;\n",
       "    }\n",
       "\n",
       "    .dataframe tbody tr th {\n",
       "        vertical-align: top;\n",
       "    }\n",
       "\n",
       "    .dataframe thead th {\n",
       "        text-align: right;\n",
       "    }\n",
       "</style>\n",
       "<table border=\"1\" class=\"dataframe\">\n",
       "  <thead>\n",
       "    <tr style=\"text-align: right;\">\n",
       "      <th></th>\n",
       "      <th>step</th>\n",
       "      <th>x</th>\n",
       "      <th>f_x</th>\n",
       "      <th>y</th>\n",
       "      <th>f_y</th>\n",
       "      <th>T</th>\n",
       "      <th>swap</th>\n",
       "    </tr>\n",
       "  </thead>\n",
       "  <tbody>\n",
       "    <tr>\n",
       "      <td>0</td>\n",
       "      <td>0</td>\n",
       "      <td>3.80153</td>\n",
       "      <td>0.128676</td>\n",
       "      <td>[2.5400654139646712]</td>\n",
       "      <td>0.265306</td>\n",
       "      <td>1.000000e-10</td>\n",
       "      <td>True</td>\n",
       "    </tr>\n",
       "    <tr>\n",
       "      <td>1</td>\n",
       "      <td>1</td>\n",
       "      <td>[2.5400654139646712]</td>\n",
       "      <td>0.265306</td>\n",
       "      <td>[1.198963503444385]</td>\n",
       "      <td>0.265306</td>\n",
       "      <td>5.000000e-11</td>\n",
       "      <td>False</td>\n",
       "    </tr>\n",
       "    <tr>\n",
       "      <td>2</td>\n",
       "      <td>2</td>\n",
       "      <td>[2.5400654139646712]</td>\n",
       "      <td>0.265306</td>\n",
       "      <td>[3.26135613574748]</td>\n",
       "      <td>0.265306</td>\n",
       "      <td>2.000000e-11</td>\n",
       "      <td>True</td>\n",
       "    </tr>\n",
       "    <tr>\n",
       "      <td>3</td>\n",
       "      <td>3</td>\n",
       "      <td>[3.26135613574748]</td>\n",
       "      <td>0.265306</td>\n",
       "      <td>[3.34414661137345]</td>\n",
       "      <td>0.222222</td>\n",
       "      <td>1.000000e-11</td>\n",
       "      <td>False</td>\n",
       "    </tr>\n",
       "    <tr>\n",
       "      <td>4</td>\n",
       "      <td>4</td>\n",
       "      <td>[3.26135613574748]</td>\n",
       "      <td>0.265306</td>\n",
       "      <td>[3.1197508137503793]</td>\n",
       "      <td>0.265306</td>\n",
       "      <td>5.882353e-12</td>\n",
       "      <td>True</td>\n",
       "    </tr>\n",
       "    <tr>\n",
       "      <td>5</td>\n",
       "      <td>5</td>\n",
       "      <td>[3.1197508137503793]</td>\n",
       "      <td>0.265306</td>\n",
       "      <td>[3.796369852271816]</td>\n",
       "      <td>0.260714</td>\n",
       "      <td>3.846154e-12</td>\n",
       "      <td>False</td>\n",
       "    </tr>\n",
       "    <tr>\n",
       "      <td>6</td>\n",
       "      <td>6</td>\n",
       "      <td>[3.1197508137503793]</td>\n",
       "      <td>0.265306</td>\n",
       "      <td>[3.3900973595700696]</td>\n",
       "      <td>0.222222</td>\n",
       "      <td>2.702703e-12</td>\n",
       "      <td>False</td>\n",
       "    </tr>\n",
       "    <tr>\n",
       "      <td>7</td>\n",
       "      <td>7</td>\n",
       "      <td>[3.1197508137503793]</td>\n",
       "      <td>0.265306</td>\n",
       "      <td>[3.1282522195164715]</td>\n",
       "      <td>0.265306</td>\n",
       "      <td>2.000000e-12</td>\n",
       "      <td>True</td>\n",
       "    </tr>\n",
       "    <tr>\n",
       "      <td>8</td>\n",
       "      <td>8</td>\n",
       "      <td>[3.1282522195164715]</td>\n",
       "      <td>0.265306</td>\n",
       "      <td>[3.2356848563015865]</td>\n",
       "      <td>0.265306</td>\n",
       "      <td>1.538462e-12</td>\n",
       "      <td>False</td>\n",
       "    </tr>\n",
       "    <tr>\n",
       "      <td>9</td>\n",
       "      <td>9</td>\n",
       "      <td>[3.1282522195164715]</td>\n",
       "      <td>0.265306</td>\n",
       "      <td>[1.8774924145691791]</td>\n",
       "      <td>0.265306</td>\n",
       "      <td>1.219512e-12</td>\n",
       "      <td>False</td>\n",
       "    </tr>\n",
       "  </tbody>\n",
       "</table>\n",
       "</div>"
      ],
      "text/plain": [
       "   step                     x       f_x                     y       f_y  \\\n",
       "0     0               3.80153  0.128676  [2.5400654139646712]  0.265306   \n",
       "1     1  [2.5400654139646712]  0.265306   [1.198963503444385]  0.265306   \n",
       "2     2  [2.5400654139646712]  0.265306    [3.26135613574748]  0.265306   \n",
       "3     3    [3.26135613574748]  0.265306    [3.34414661137345]  0.222222   \n",
       "4     4    [3.26135613574748]  0.265306  [3.1197508137503793]  0.265306   \n",
       "5     5  [3.1197508137503793]  0.265306   [3.796369852271816]  0.260714   \n",
       "6     6  [3.1197508137503793]  0.265306  [3.3900973595700696]  0.222222   \n",
       "7     7  [3.1197508137503793]  0.265306  [3.1282522195164715]  0.265306   \n",
       "8     8  [3.1282522195164715]  0.265306  [3.2356848563015865]  0.265306   \n",
       "9     9  [3.1282522195164715]  0.265306  [1.8774924145691791]  0.265306   \n",
       "\n",
       "              T   swap  \n",
       "0  1.000000e-10   True  \n",
       "1  5.000000e-11  False  \n",
       "2  2.000000e-11   True  \n",
       "3  1.000000e-11  False  \n",
       "4  5.882353e-12   True  \n",
       "5  3.846154e-12  False  \n",
       "6  2.702703e-12  False  \n",
       "7  2.000000e-12   True  \n",
       "8  1.538462e-12  False  \n",
       "9  1.219512e-12  False  "
      ]
     },
     "execution_count": 23,
     "metadata": {},
     "output_type": "execute_result"
    }
   ],
   "source": [
    "log_data = result['log_data'].copy()\n",
    "log_data = log_data[['step', 'x', 'f_x', 'y', 'f_y', 'T', 'swap']]  # column re-ordering, for better readability\n",
    "log_data.head(10)"
   ]
  },
  {
   "cell_type": "code",
   "execution_count": 24,
   "metadata": {},
   "outputs": [],
   "source": [
    "def plot_compare(step_data, ax1_col, ax1_label, ax2_col, ax2_label):\n",
    "    fig, ax1 = plt.subplots()\n",
    "\n",
    "    k = step_data.index.values\n",
    "    T = step_data[ax1_col]\n",
    "    ax1.plot(k, T, 'b-')\n",
    "    ax1.set_xlabel('Step')\n",
    "    ax1.set_ylabel(ax1_label, color='b')\n",
    "    for tl in ax1.get_yticklabels():\n",
    "        tl.set_color('b')\n",
    "\n",
    "    ax2 = ax1.twinx()\n",
    "    s2 = step_data[ax2_col]\n",
    "    ax2.plot(k, s2, 'r.')\n",
    "    ax2.set_ylabel(ax2_label, color='r')\n",
    "    for tl in ax2.get_yticklabels():\n",
    "        tl.set_color('r')\n",
    "\n",
    "    plt.show()"
   ]
  },
  {
   "cell_type": "code",
   "execution_count": 25,
   "metadata": {},
   "outputs": [
    {
     "data": {
      "image/png": "[encoded data removed]",
      "text/plain": [
       "<Figure size 432x288 with 2 Axes>"
      ]
     },
     "metadata": {
      "needs_background": "light"
     },
     "output_type": "display_data"
    }
   ],
   "source": [
    "plot_compare(log_data, 'T', 'Temperature', 'f_x', 'f(x)')"
   ]
  },
  {
   "cell_type": "code",
   "execution_count": 26,
   "metadata": {},
   "outputs": [
    {
     "data": {
      "image/png": "[encoded data removed]",
      "text/plain": [
       "<Figure size 432x288 with 2 Axes>"
      ]
     },
     "metadata": {
      "needs_background": "light"
     },
     "output_type": "display_data"
    }
   ],
   "source": [
    "plot_compare(log_data, 'T', 'Temperature', 'f_y', 'f(y)')"
   ]
  },
  {
   "cell_type": "markdown",
   "metadata": {},
   "source": [
    "__$n_0$ doubled:__"
   ]
  },
  {
   "cell_type": "code",
   "execution_count": 27,
   "metadata": {},
   "outputs": [
    {
     "name": "stdout",
     "output_type": "stream",
     "text": [
      "neval = inf\n",
      "best_x = [1.2626445132562205, 1.0, 10, 80, 10]\n",
      "best_y = 0.585820895522388\n"
     ]
    }
   ],
   "source": [
    "# maxeval=50\n",
    "heur = FastSimulatedAnnealing(n2v, maxeval=maxeval, T0=1e-10, n0=2, alpha=2, \n",
    "                              mutation=CauchyMutation(r=0.5, correction=Correction(n2v)),\n",
    "                             params=default_params)\n",
    "result = heur.search()\n",
    "print('neval = {}'.format(result['neval']))\n",
    "print('best_x = {}'.format(result['best_x']))\n",
    "print('best_y = {}'.format(result['best_y']))"
   ]
  },
  {
   "cell_type": "code",
   "execution_count": 28,
   "metadata": {},
   "outputs": [],
   "source": [
    "log_data = result['log_data'].copy()\n",
    "log_data = log_data[['step', 'x', 'f_x', 'y', 'f_y', 'T', 'swap']]  \n",
    "# column re-ordering, for better readability"
   ]
  },
  {
   "cell_type": "code",
   "execution_count": 29,
   "metadata": {},
   "outputs": [
    {
     "data": {
      "image/png": "[encoded data removed]",
      "text/plain": [
       "<Figure size 432x288 with 2 Axes>"
      ]
     },
     "metadata": {
      "needs_background": "light"
     },
     "output_type": "display_data"
    }
   ],
   "source": [
    "plot_compare(log_data, 'T', 'Temperature', 'f_x', 'f(x)')"
   ]
  },
  {
   "cell_type": "code",
   "execution_count": 30,
   "metadata": {},
   "outputs": [
    {
     "data": {
      "image/png": "[encoded data removed]",
      "text/plain": [
       "<Figure size 432x288 with 2 Axes>"
      ]
     },
     "metadata": {
      "needs_background": "light"
     },
     "output_type": "display_data"
    }
   ],
   "source": [
    "plot_compare(log_data, 'T', 'Temperature', 'f_y', 'f(y)')"
   ]
  },
  {
   "cell_type": "markdown",
   "metadata": {},
   "source": [
    "__More thorough testing:__"
   ]
  },
  {
   "cell_type": "code",
   "execution_count": 31,
   "metadata": {},
   "outputs": [
    {
     "data": {
      "application/vnd.jupyter.widget-view+json": {
       "model_id": "bc48a1f2c04d48c293c136a5c60a201b",
       "version_major": 2,
       "version_minor": 0
      },
      "text/plain": [
       "HBox(children=(IntProgress(value=0, description='Testing T0=1e-10, n0=2, alpha=2, r=0.5', max=50, style=Progre…"
      ]
     },
     "metadata": {},
     "output_type": "display_data"
    },
    {
     "name": "stdout",
     "output_type": "stream",
     "text": [
      "\n"
     ]
    },
    {
     "data": {
      "application/vnd.jupyter.widget-view+json": {
       "model_id": "2cef03da4b4f42298605942c73de8b15",
       "version_major": 2,
       "version_minor": 0
      },
      "text/plain": [
       "HBox(children=(IntProgress(value=0, description='Testing T0=1e-10, n0=3, alpha=2, r=0.5', max=50, style=Progre…"
      ]
     },
     "metadata": {},
     "output_type": "display_data"
    },
    {
     "name": "stdout",
     "output_type": "stream",
     "text": [
      "\n"
     ]
    },
    {
     "data": {
      "application/vnd.jupyter.widget-view+json": {
       "model_id": "ee169f92408b482086cdcef163fe03d8",
       "version_major": 2,
       "version_minor": 0
      },
      "text/plain": [
       "HBox(children=(IntProgress(value=0, description='Testing T0=1e-10, n0=5, alpha=2, r=0.5', max=50, style=Progre…"
      ]
     },
     "metadata": {},
     "output_type": "display_data"
    },
    {
     "name": "stdout",
     "output_type": "stream",
     "text": [
      "\n"
     ]
    },
    {
     "data": {
      "application/vnd.jupyter.widget-view+json": {
       "model_id": "2d1f38a556b7465f8a9fd8a92dbaca39",
       "version_major": 2,
       "version_minor": 0
      },
      "text/plain": [
       "HBox(children=(IntProgress(value=0, description='Testing T0=1e-10, n0=10, alpha=2, r=0.5', max=50, style=Progr…"
      ]
     },
     "metadata": {},
     "output_type": "display_data"
    },
    {
     "name": "stdout",
     "output_type": "stream",
     "text": [
      "\n"
     ]
    }
   ],
   "source": [
    "# cooling strategy parameter testing\n",
    "for n0 in [2, 3, 5, 10]:\n",
    "    res = experiment_fsa(of=n2v, maxeval=maxeval, num_runs=NUM_RUNS, T0=1e-10, n0=n0, alpha=2, r=0.5,\n",
    "                        params=default_params)\n",
    "    table_fsa = pd.concat([table_fsa, res], axis=0)"
   ]
  },
  {
   "cell_type": "code",
   "execution_count": 32,
   "metadata": {},
   "outputs": [
    {
     "name": "stderr",
     "output_type": "stream",
     "text": [
      "C:\\Users\\Adeliia\\Anaconda3\\lib\\site-packages\\numpy\\core\\fromnumeric.py:3118: RuntimeWarning: Mean of empty slice.\n",
      "  out=out, **kwargs)\n",
      "C:\\Users\\Adeliia\\Anaconda3\\lib\\site-packages\\numpy\\core\\_methods.py:85: RuntimeWarning: invalid value encountered in double_scalars\n",
      "  ret = ret.dtype.type(ret / rcount)\n"
     ]
    },
    {
     "data": {
      "text/html": [
       "<div>\n",
       "<style scoped>\n",
       "    .dataframe tbody tr th:only-of-type {\n",
       "        vertical-align: middle;\n",
       "    }\n",
       "\n",
       "    .dataframe tbody tr th {\n",
       "        vertical-align: top;\n",
       "    }\n",
       "\n",
       "    .dataframe thead th {\n",
       "        text-align: right;\n",
       "    }\n",
       "</style>\n",
       "<table border=\"1\" class=\"dataframe\">\n",
       "  <thead>\n",
       "    <tr style=\"text-align: right;\">\n",
       "      <th></th>\n",
       "      <th>heur</th>\n",
       "      <th>T0</th>\n",
       "      <th>n0</th>\n",
       "      <th>feo</th>\n",
       "      <th>mne</th>\n",
       "      <th>rel</th>\n",
       "    </tr>\n",
       "  </thead>\n",
       "  <tbody>\n",
       "    <tr>\n",
       "      <td>3</td>\n",
       "      <td>FSA_1e-10_1_2_0.5</td>\n",
       "      <td>1.000000e-10</td>\n",
       "      <td>1</td>\n",
       "      <td>50.0</td>\n",
       "      <td>1.0</td>\n",
       "      <td>0.02</td>\n",
       "    </tr>\n",
       "    <tr>\n",
       "      <td>4</td>\n",
       "      <td>FSA_1e-10_2_2_0.5</td>\n",
       "      <td>1.000000e-10</td>\n",
       "      <td>2</td>\n",
       "      <td>NaN</td>\n",
       "      <td>NaN</td>\n",
       "      <td>0.00</td>\n",
       "    </tr>\n",
       "    <tr>\n",
       "      <td>5</td>\n",
       "      <td>FSA_1e-10_3_2_0.5</td>\n",
       "      <td>1.000000e-10</td>\n",
       "      <td>3</td>\n",
       "      <td>25.0</td>\n",
       "      <td>1.0</td>\n",
       "      <td>0.04</td>\n",
       "    </tr>\n",
       "    <tr>\n",
       "      <td>6</td>\n",
       "      <td>FSA_1e-10_5_2_0.5</td>\n",
       "      <td>1.000000e-10</td>\n",
       "      <td>5</td>\n",
       "      <td>25.0</td>\n",
       "      <td>1.0</td>\n",
       "      <td>0.04</td>\n",
       "    </tr>\n",
       "    <tr>\n",
       "      <td>2</td>\n",
       "      <td>FSA_1e-10_10_2_0.5</td>\n",
       "      <td>1.000000e-10</td>\n",
       "      <td>10</td>\n",
       "      <td>25.0</td>\n",
       "      <td>1.0</td>\n",
       "      <td>0.04</td>\n",
       "    </tr>\n",
       "    <tr>\n",
       "      <td>0</td>\n",
       "      <td>FSA_0.01_1_2_0.5</td>\n",
       "      <td>1.000000e-02</td>\n",
       "      <td>1</td>\n",
       "      <td>NaN</td>\n",
       "      <td>NaN</td>\n",
       "      <td>0.00</td>\n",
       "    </tr>\n",
       "    <tr>\n",
       "      <td>1</td>\n",
       "      <td>FSA_1_1_2_0.5</td>\n",
       "      <td>1.000000e+00</td>\n",
       "      <td>1</td>\n",
       "      <td>50.0</td>\n",
       "      <td>1.0</td>\n",
       "      <td>0.02</td>\n",
       "    </tr>\n",
       "    <tr>\n",
       "      <td>7</td>\n",
       "      <td>FSA_inf_1_2_0.5</td>\n",
       "      <td>inf</td>\n",
       "      <td>1</td>\n",
       "      <td>NaN</td>\n",
       "      <td>NaN</td>\n",
       "      <td>0.00</td>\n",
       "    </tr>\n",
       "  </tbody>\n",
       "</table>\n",
       "</div>"
      ],
      "text/plain": [
       "                 heur            T0  n0   feo  mne   rel\n",
       "3   FSA_1e-10_1_2_0.5  1.000000e-10   1  50.0  1.0  0.02\n",
       "4   FSA_1e-10_2_2_0.5  1.000000e-10   2   NaN  NaN  0.00\n",
       "5   FSA_1e-10_3_2_0.5  1.000000e-10   3  25.0  1.0  0.04\n",
       "6   FSA_1e-10_5_2_0.5  1.000000e-10   5  25.0  1.0  0.04\n",
       "2  FSA_1e-10_10_2_0.5  1.000000e-10  10  25.0  1.0  0.04\n",
       "0    FSA_0.01_1_2_0.5  1.000000e-02   1   NaN  NaN  0.00\n",
       "1       FSA_1_1_2_0.5  1.000000e+00   1  50.0  1.0  0.02\n",
       "7     FSA_inf_1_2_0.5           inf   1   NaN  NaN  0.00"
      ]
     },
     "execution_count": 32,
     "metadata": {},
     "output_type": "execute_result"
    }
   ],
   "source": [
    "stats_fsa = table_fsa.pivot_table(\n",
    "    index=['heur', 'T0', 'n0'],\n",
    "    values=['neval'],\n",
    "    aggfunc=(rel, mne, feo)\n",
    ")['neval']\n",
    "stats_fsa = stats_fsa.reset_index()\n",
    "stats_fsa.sort_values(by=['T0', 'n0'])"
   ]
  },
  {
   "cell_type": "markdown",
   "metadata": {},
   "source": [
    "__Is the mutation $r$ adequate?__"
   ]
  },
  {
   "cell_type": "code",
   "execution_count": 33,
   "metadata": {},
   "outputs": [
    {
     "data": {
      "text/html": [
       "<div>\n",
       "<style scoped>\n",
       "    .dataframe tbody tr th:only-of-type {\n",
       "        vertical-align: middle;\n",
       "    }\n",
       "\n",
       "    .dataframe tbody tr th {\n",
       "        vertical-align: top;\n",
       "    }\n",
       "\n",
       "    .dataframe thead th {\n",
       "        text-align: right;\n",
       "    }\n",
       "</style>\n",
       "<table border=\"1\" class=\"dataframe\">\n",
       "  <thead>\n",
       "    <tr style=\"text-align: right;\">\n",
       "      <th></th>\n",
       "      <th>step</th>\n",
       "      <th>x</th>\n",
       "      <th>f_x</th>\n",
       "      <th>y</th>\n",
       "      <th>f_y</th>\n",
       "      <th>T</th>\n",
       "      <th>swap</th>\n",
       "      <th>jump_length</th>\n",
       "    </tr>\n",
       "  </thead>\n",
       "  <tbody>\n",
       "    <tr>\n",
       "      <td>0</td>\n",
       "      <td>0</td>\n",
       "      <td>1.262645</td>\n",
       "      <td>0.585821</td>\n",
       "      <td>[1.6622774203713457]</td>\n",
       "      <td>0.224490</td>\n",
       "      <td>1.000000e-10</td>\n",
       "      <td>False</td>\n",
       "      <td>0.399633</td>\n",
       "    </tr>\n",
       "    <tr>\n",
       "      <td>1</td>\n",
       "      <td>1</td>\n",
       "      <td>1.262645</td>\n",
       "      <td>0.585821</td>\n",
       "      <td>[0.47725558775117816]</td>\n",
       "      <td>0.328671</td>\n",
       "      <td>8.000000e-11</td>\n",
       "      <td>False</td>\n",
       "      <td>0.785389</td>\n",
       "    </tr>\n",
       "    <tr>\n",
       "      <td>2</td>\n",
       "      <td>2</td>\n",
       "      <td>1.262645</td>\n",
       "      <td>0.585821</td>\n",
       "      <td>[1.4873424064678944]</td>\n",
       "      <td>0.265306</td>\n",
       "      <td>5.000000e-11</td>\n",
       "      <td>False</td>\n",
       "      <td>0.224698</td>\n",
       "    </tr>\n",
       "    <tr>\n",
       "      <td>3</td>\n",
       "      <td>3</td>\n",
       "      <td>1.262645</td>\n",
       "      <td>0.585821</td>\n",
       "      <td>[0.9205657391577463]</td>\n",
       "      <td>0.287770</td>\n",
       "      <td>3.076923e-11</td>\n",
       "      <td>False</td>\n",
       "      <td>0.342079</td>\n",
       "    </tr>\n",
       "    <tr>\n",
       "      <td>4</td>\n",
       "      <td>4</td>\n",
       "      <td>1.262645</td>\n",
       "      <td>0.585821</td>\n",
       "      <td>[1.7465483812885165]</td>\n",
       "      <td>0.105263</td>\n",
       "      <td>2.000000e-11</td>\n",
       "      <td>False</td>\n",
       "      <td>0.483904</td>\n",
       "    </tr>\n",
       "    <tr>\n",
       "      <td>5</td>\n",
       "      <td>5</td>\n",
       "      <td>1.262645</td>\n",
       "      <td>0.585821</td>\n",
       "      <td>[0.125]</td>\n",
       "      <td>0.325581</td>\n",
       "      <td>1.379310e-11</td>\n",
       "      <td>False</td>\n",
       "      <td>1.137645</td>\n",
       "    </tr>\n",
       "    <tr>\n",
       "      <td>6</td>\n",
       "      <td>6</td>\n",
       "      <td>1.262645</td>\n",
       "      <td>0.585821</td>\n",
       "      <td>[1.6667518008692639]</td>\n",
       "      <td>0.224490</td>\n",
       "      <td>1.000000e-11</td>\n",
       "      <td>False</td>\n",
       "      <td>0.404107</td>\n",
       "    </tr>\n",
       "    <tr>\n",
       "      <td>7</td>\n",
       "      <td>7</td>\n",
       "      <td>1.262645</td>\n",
       "      <td>0.585821</td>\n",
       "      <td>[4.125]</td>\n",
       "      <td>0.333333</td>\n",
       "      <td>7.547170e-12</td>\n",
       "      <td>False</td>\n",
       "      <td>2.862355</td>\n",
       "    </tr>\n",
       "    <tr>\n",
       "      <td>8</td>\n",
       "      <td>8</td>\n",
       "      <td>1.262645</td>\n",
       "      <td>0.585821</td>\n",
       "      <td>[1.329397539970571]</td>\n",
       "      <td>0.027933</td>\n",
       "      <td>5.882353e-12</td>\n",
       "      <td>False</td>\n",
       "      <td>0.066753</td>\n",
       "    </tr>\n",
       "    <tr>\n",
       "      <td>9</td>\n",
       "      <td>9</td>\n",
       "      <td>1.262645</td>\n",
       "      <td>0.585821</td>\n",
       "      <td>[1.055785735356008]</td>\n",
       "      <td>0.215686</td>\n",
       "      <td>4.705882e-12</td>\n",
       "      <td>False</td>\n",
       "      <td>0.206859</td>\n",
       "    </tr>\n",
       "  </tbody>\n",
       "</table>\n",
       "</div>"
      ],
      "text/plain": [
       "   step         x       f_x                      y       f_y             T  \\\n",
       "0     0  1.262645  0.585821   [1.6622774203713457]  0.224490  1.000000e-10   \n",
       "1     1  1.262645  0.585821  [0.47725558775117816]  0.328671  8.000000e-11   \n",
       "2     2  1.262645  0.585821   [1.4873424064678944]  0.265306  5.000000e-11   \n",
       "3     3  1.262645  0.585821   [0.9205657391577463]  0.287770  3.076923e-11   \n",
       "4     4  1.262645  0.585821   [1.7465483812885165]  0.105263  2.000000e-11   \n",
       "5     5  1.262645  0.585821                [0.125]  0.325581  1.379310e-11   \n",
       "6     6  1.262645  0.585821   [1.6667518008692639]  0.224490  1.000000e-11   \n",
       "7     7  1.262645  0.585821                [4.125]  0.333333  7.547170e-12   \n",
       "8     8  1.262645  0.585821    [1.329397539970571]  0.027933  5.882353e-12   \n",
       "9     9  1.262645  0.585821    [1.055785735356008]  0.215686  4.705882e-12   \n",
       "\n",
       "    swap  jump_length  \n",
       "0  False     0.399633  \n",
       "1  False     0.785389  \n",
       "2  False     0.224698  \n",
       "3  False     0.342079  \n",
       "4  False     0.483904  \n",
       "5  False     1.137645  \n",
       "6  False     0.404107  \n",
       "7  False     2.862355  \n",
       "8  False     0.066753  \n",
       "9  False     0.206859  "
      ]
     },
     "execution_count": 33,
     "metadata": {},
     "output_type": "execute_result"
    }
   ],
   "source": [
    "log_data['jump_length'] = log_data.apply(lambda r: np.linalg.norm(r['x'] - r['y']), axis=1)\n",
    "log_data.head(10)"
   ]
  },
  {
   "cell_type": "code",
   "execution_count": 34,
   "metadata": {},
   "outputs": [
    {
     "data": {
      "text/plain": [
       "count    48.000000\n",
       "mean      0.727042\n",
       "std       0.596869\n",
       "min       0.066753\n",
       "25%       0.318033\n",
       "50%       0.560860\n",
       "75%       1.137645\n",
       "max       2.862355\n",
       "Name: jump_length, dtype: float64"
      ]
     },
     "execution_count": 34,
     "metadata": {},
     "output_type": "execute_result"
    }
   ],
   "source": [
    "log_data['jump_length'].describe()"
   ]
  },
  {
   "cell_type": "code",
   "execution_count": 35,
   "metadata": {},
   "outputs": [
    {
     "data": {
      "application/vnd.jupyter.widget-view+json": {
       "model_id": "a6995fd05bd141f4b6809c97cca8a46c",
       "version_major": 2,
       "version_minor": 0
      },
      "text/plain": [
       "HBox(children=(IntProgress(value=0, description='Testing T0=1e-10, n0=5, alpha=2, r=0.001', max=50, style=Prog…"
      ]
     },
     "metadata": {},
     "output_type": "display_data"
    },
    {
     "name": "stdout",
     "output_type": "stream",
     "text": [
      "\n"
     ]
    },
    {
     "data": {
      "application/vnd.jupyter.widget-view+json": {
       "model_id": "a8f33c711dfe477cb975bd866240e93c",
       "version_major": 2,
       "version_minor": 0
      },
      "text/plain": [
       "HBox(children=(IntProgress(value=0, description='Testing T0=1e-10, n0=5, alpha=2, r=0.01', max=50, style=Progr…"
      ]
     },
     "metadata": {},
     "output_type": "display_data"
    },
    {
     "name": "stdout",
     "output_type": "stream",
     "text": [
      "\n"
     ]
    },
    {
     "data": {
      "application/vnd.jupyter.widget-view+json": {
       "model_id": "8930527916a245f9891c5e5be1890e35",
       "version_major": 2,
       "version_minor": 0
      },
      "text/plain": [
       "HBox(children=(IntProgress(value=0, description='Testing T0=1e-10, n0=5, alpha=2, r=0.1', max=50, style=Progre…"
      ]
     },
     "metadata": {},
     "output_type": "display_data"
    },
    {
     "name": "stdout",
     "output_type": "stream",
     "text": [
      "\n"
     ]
    },
    {
     "data": {
      "application/vnd.jupyter.widget-view+json": {
       "model_id": "d930e9def57b45409669fc68564d5b4d",
       "version_major": 2,
       "version_minor": 0
      },
      "text/plain": [
       "HBox(children=(IntProgress(value=0, description='Testing T0=1e-10, n0=5, alpha=2, r=0.25', max=50, style=Progr…"
      ]
     },
     "metadata": {},
     "output_type": "display_data"
    },
    {
     "name": "stdout",
     "output_type": "stream",
     "text": [
      "\n"
     ]
    },
    {
     "data": {
      "application/vnd.jupyter.widget-view+json": {
       "model_id": "2acf35cabc6046a28c76fe65a6fc40f3",
       "version_major": 2,
       "version_minor": 0
      },
      "text/plain": [
       "HBox(children=(IntProgress(value=0, description='Testing T0=1e-10, n0=5, alpha=2, r=0.75', max=50, style=Progr…"
      ]
     },
     "metadata": {},
     "output_type": "display_data"
    },
    {
     "name": "stdout",
     "output_type": "stream",
     "text": [
      "\n"
     ]
    },
    {
     "data": {
      "application/vnd.jupyter.widget-view+json": {
       "model_id": "50a8d19b36f543078fee23a68a9c9ba0",
       "version_major": 2,
       "version_minor": 0
      },
      "text/plain": [
       "HBox(children=(IntProgress(value=0, description='Testing T0=1e-10, n0=5, alpha=2, r=1', max=50, style=Progress…"
      ]
     },
     "metadata": {},
     "output_type": "display_data"
    },
    {
     "name": "stdout",
     "output_type": "stream",
     "text": [
      "\n"
     ]
    }
   ],
   "source": [
    "for r in [0.001,0.01,.1, .25, .75, 1]:\n",
    "    res = experiment_fsa(of=n2v, maxeval=maxeval, num_runs=NUM_RUNS, T0=1e-10, n0=5, alpha=2, r=r,\n",
    "                        params=default_params)\n",
    "    table_fsa = pd.concat([table_fsa, res], axis=0)"
   ]
  },
  {
   "cell_type": "code",
   "execution_count": 40,
   "metadata": {},
   "outputs": [
    {
     "data": {
      "image/png": "[encoded data removed]",
      "text/plain": [
       "<Figure size 432x288 with 1 Axes>"
      ]
     },
     "metadata": {
      "needs_background": "light"
     },
     "output_type": "display_data"
    }
   ],
   "source": [
    "ax = sns.boxplot(x=\"r\", y=\"best_y\", data=table_fsa)"
   ]
  },
  {
   "cell_type": "code",
   "execution_count": 46,
   "metadata": {},
   "outputs": [
    {
     "data": {
      "text/plain": [
       "0.5057760208262176"
      ]
     },
     "execution_count": 46,
     "metadata": {},
     "output_type": "execute_result"
    }
   ],
   "source": [
    "table_fsa['best_y'].mean()"
   ]
  },
  {
   "cell_type": "code",
   "execution_count": 48,
   "metadata": {},
   "outputs": [
    {
     "data": {
      "text/plain": [
       "0.45038167938931295"
      ]
     },
     "execution_count": 48,
     "metadata": {},
     "output_type": "execute_result"
    }
   ],
   "source": [
    "table_fsa['best_y'].median()"
   ]
  },
  {
   "cell_type": "code",
   "execution_count": 49,
   "metadata": {},
   "outputs": [
    {
     "data": {
      "text/plain": [
       "0    0.333333\n",
       "dtype: float64"
      ]
     },
     "execution_count": 49,
     "metadata": {},
     "output_type": "execute_result"
    }
   ],
   "source": [
    "table_fsa['best_y'].mode()"
   ]
  },
  {
   "cell_type": "code",
   "execution_count": 45,
   "metadata": {},
   "outputs": [
    {
     "data": {
      "text/plain": [
       "1.0"
      ]
     },
     "execution_count": 45,
     "metadata": {},
     "output_type": "execute_result"
    }
   ],
   "source": [
    "table_fsa['best_y'].max()"
   ]
  },
  {
   "cell_type": "code",
   "execution_count": 36,
   "metadata": {},
   "outputs": [
    {
     "name": "stderr",
     "output_type": "stream",
     "text": [
      "C:\\Users\\Adeliia\\Anaconda3\\lib\\site-packages\\numpy\\core\\fromnumeric.py:3118: RuntimeWarning: Mean of empty slice.\n",
      "  out=out, **kwargs)\n",
      "C:\\Users\\Adeliia\\Anaconda3\\lib\\site-packages\\numpy\\core\\_methods.py:85: RuntimeWarning: invalid value encountered in double_scalars\n",
      "  ret = ret.dtype.type(ret / rcount)\n"
     ]
    },
    {
     "data": {
      "text/html": [
       "<div>\n",
       "<style scoped>\n",
       "    .dataframe tbody tr th:only-of-type {\n",
       "        vertical-align: middle;\n",
       "    }\n",
       "\n",
       "    .dataframe tbody tr th {\n",
       "        vertical-align: top;\n",
       "    }\n",
       "\n",
       "    .dataframe thead th {\n",
       "        text-align: right;\n",
       "    }\n",
       "</style>\n",
       "<table border=\"1\" class=\"dataframe\">\n",
       "  <thead>\n",
       "    <tr style=\"text-align: right;\">\n",
       "      <th></th>\n",
       "      <th>heur</th>\n",
       "      <th>T0</th>\n",
       "      <th>n0</th>\n",
       "      <th>r</th>\n",
       "      <th>feo</th>\n",
       "      <th>mne</th>\n",
       "      <th>rel</th>\n",
       "    </tr>\n",
       "  </thead>\n",
       "  <tbody>\n",
       "    <tr>\n",
       "      <td>3</td>\n",
       "      <td>FSA_1e-10_1_2_0.5</td>\n",
       "      <td>1.000000e-10</td>\n",
       "      <td>1</td>\n",
       "      <td>0.500</td>\n",
       "      <td>50.000000</td>\n",
       "      <td>1.0</td>\n",
       "      <td>0.02</td>\n",
       "    </tr>\n",
       "    <tr>\n",
       "      <td>4</td>\n",
       "      <td>FSA_1e-10_2_2_0.5</td>\n",
       "      <td>1.000000e-10</td>\n",
       "      <td>2</td>\n",
       "      <td>0.500</td>\n",
       "      <td>NaN</td>\n",
       "      <td>NaN</td>\n",
       "      <td>0.00</td>\n",
       "    </tr>\n",
       "    <tr>\n",
       "      <td>5</td>\n",
       "      <td>FSA_1e-10_3_2_0.5</td>\n",
       "      <td>1.000000e-10</td>\n",
       "      <td>3</td>\n",
       "      <td>0.500</td>\n",
       "      <td>25.000000</td>\n",
       "      <td>1.0</td>\n",
       "      <td>0.04</td>\n",
       "    </tr>\n",
       "    <tr>\n",
       "      <td>6</td>\n",
       "      <td>FSA_1e-10_5_2_0.001</td>\n",
       "      <td>1.000000e-10</td>\n",
       "      <td>5</td>\n",
       "      <td>0.001</td>\n",
       "      <td>NaN</td>\n",
       "      <td>NaN</td>\n",
       "      <td>0.00</td>\n",
       "    </tr>\n",
       "    <tr>\n",
       "      <td>7</td>\n",
       "      <td>FSA_1e-10_5_2_0.01</td>\n",
       "      <td>1.000000e-10</td>\n",
       "      <td>5</td>\n",
       "      <td>0.010</td>\n",
       "      <td>16.666667</td>\n",
       "      <td>1.0</td>\n",
       "      <td>0.06</td>\n",
       "    </tr>\n",
       "    <tr>\n",
       "      <td>8</td>\n",
       "      <td>FSA_1e-10_5_2_0.1</td>\n",
       "      <td>1.000000e-10</td>\n",
       "      <td>5</td>\n",
       "      <td>0.100</td>\n",
       "      <td>12.500000</td>\n",
       "      <td>1.0</td>\n",
       "      <td>0.08</td>\n",
       "    </tr>\n",
       "    <tr>\n",
       "      <td>9</td>\n",
       "      <td>FSA_1e-10_5_2_0.25</td>\n",
       "      <td>1.000000e-10</td>\n",
       "      <td>5</td>\n",
       "      <td>0.250</td>\n",
       "      <td>50.000000</td>\n",
       "      <td>1.0</td>\n",
       "      <td>0.02</td>\n",
       "    </tr>\n",
       "    <tr>\n",
       "      <td>10</td>\n",
       "      <td>FSA_1e-10_5_2_0.5</td>\n",
       "      <td>1.000000e-10</td>\n",
       "      <td>5</td>\n",
       "      <td>0.500</td>\n",
       "      <td>25.000000</td>\n",
       "      <td>1.0</td>\n",
       "      <td>0.04</td>\n",
       "    </tr>\n",
       "    <tr>\n",
       "      <td>11</td>\n",
       "      <td>FSA_1e-10_5_2_0.75</td>\n",
       "      <td>1.000000e-10</td>\n",
       "      <td>5</td>\n",
       "      <td>0.750</td>\n",
       "      <td>50.000000</td>\n",
       "      <td>1.0</td>\n",
       "      <td>0.02</td>\n",
       "    </tr>\n",
       "    <tr>\n",
       "      <td>12</td>\n",
       "      <td>FSA_1e-10_5_2_1</td>\n",
       "      <td>1.000000e-10</td>\n",
       "      <td>5</td>\n",
       "      <td>1.000</td>\n",
       "      <td>NaN</td>\n",
       "      <td>NaN</td>\n",
       "      <td>0.00</td>\n",
       "    </tr>\n",
       "    <tr>\n",
       "      <td>2</td>\n",
       "      <td>FSA_1e-10_10_2_0.5</td>\n",
       "      <td>1.000000e-10</td>\n",
       "      <td>10</td>\n",
       "      <td>0.500</td>\n",
       "      <td>25.000000</td>\n",
       "      <td>1.0</td>\n",
       "      <td>0.04</td>\n",
       "    </tr>\n",
       "    <tr>\n",
       "      <td>0</td>\n",
       "      <td>FSA_0.01_1_2_0.5</td>\n",
       "      <td>1.000000e-02</td>\n",
       "      <td>1</td>\n",
       "      <td>0.500</td>\n",
       "      <td>NaN</td>\n",
       "      <td>NaN</td>\n",
       "      <td>0.00</td>\n",
       "    </tr>\n",
       "    <tr>\n",
       "      <td>1</td>\n",
       "      <td>FSA_1_1_2_0.5</td>\n",
       "      <td>1.000000e+00</td>\n",
       "      <td>1</td>\n",
       "      <td>0.500</td>\n",
       "      <td>50.000000</td>\n",
       "      <td>1.0</td>\n",
       "      <td>0.02</td>\n",
       "    </tr>\n",
       "    <tr>\n",
       "      <td>13</td>\n",
       "      <td>FSA_inf_1_2_0.5</td>\n",
       "      <td>inf</td>\n",
       "      <td>1</td>\n",
       "      <td>0.500</td>\n",
       "      <td>NaN</td>\n",
       "      <td>NaN</td>\n",
       "      <td>0.00</td>\n",
       "    </tr>\n",
       "  </tbody>\n",
       "</table>\n",
       "</div>"
      ],
      "text/plain": [
       "                   heur            T0  n0      r        feo  mne   rel\n",
       "3     FSA_1e-10_1_2_0.5  1.000000e-10   1  0.500  50.000000  1.0  0.02\n",
       "4     FSA_1e-10_2_2_0.5  1.000000e-10   2  0.500        NaN  NaN  0.00\n",
       "5     FSA_1e-10_3_2_0.5  1.000000e-10   3  0.500  25.000000  1.0  0.04\n",
       "6   FSA_1e-10_5_2_0.001  1.000000e-10   5  0.001        NaN  NaN  0.00\n",
       "7    FSA_1e-10_5_2_0.01  1.000000e-10   5  0.010  16.666667  1.0  0.06\n",
       "8     FSA_1e-10_5_2_0.1  1.000000e-10   5  0.100  12.500000  1.0  0.08\n",
       "9    FSA_1e-10_5_2_0.25  1.000000e-10   5  0.250  50.000000  1.0  0.02\n",
       "10    FSA_1e-10_5_2_0.5  1.000000e-10   5  0.500  25.000000  1.0  0.04\n",
       "11   FSA_1e-10_5_2_0.75  1.000000e-10   5  0.750  50.000000  1.0  0.02\n",
       "12      FSA_1e-10_5_2_1  1.000000e-10   5  1.000        NaN  NaN  0.00\n",
       "2    FSA_1e-10_10_2_0.5  1.000000e-10  10  0.500  25.000000  1.0  0.04\n",
       "0      FSA_0.01_1_2_0.5  1.000000e-02   1  0.500        NaN  NaN  0.00\n",
       "1         FSA_1_1_2_0.5  1.000000e+00   1  0.500  50.000000  1.0  0.02\n",
       "13      FSA_inf_1_2_0.5           inf   1  0.500        NaN  NaN  0.00"
      ]
     },
     "execution_count": 36,
     "metadata": {},
     "output_type": "execute_result"
    }
   ],
   "source": [
    "stats_fsa = table_fsa.pivot_table(\n",
    "    index=['heur', 'T0', 'n0', 'r'],\n",
    "    values=['neval'],\n",
    "    aggfunc=(rel, mne, feo)\n",
    ")['neval']\n",
    "stats_fsa = stats_fsa.reset_index()\n",
    "stats_fsa.sort_values(by=['T0', 'n0', 'r'])"
   ]
  },
  {
   "cell_type": "markdown",
   "metadata": {},
   "source": [
    "The best performing instance of FSA, according to $FEO$:"
   ]
  },
  {
   "cell_type": "code",
   "execution_count": 39,
   "metadata": {},
   "outputs": [
    {
     "data": {
      "text/html": [
       "<div>\n",
       "<style scoped>\n",
       "    .dataframe tbody tr th:only-of-type {\n",
       "        vertical-align: middle;\n",
       "    }\n",
       "\n",
       "    .dataframe tbody tr th {\n",
       "        vertical-align: top;\n",
       "    }\n",
       "\n",
       "    .dataframe thead th {\n",
       "        text-align: right;\n",
       "    }\n",
       "</style>\n",
       "<table border=\"1\" class=\"dataframe\">\n",
       "  <thead>\n",
       "    <tr style=\"text-align: right;\">\n",
       "      <th></th>\n",
       "      <th>heur</th>\n",
       "      <th>T0</th>\n",
       "      <th>n0</th>\n",
       "      <th>r</th>\n",
       "      <th>feo</th>\n",
       "      <th>mne</th>\n",
       "      <th>rel</th>\n",
       "    </tr>\n",
       "  </thead>\n",
       "  <tbody>\n",
       "    <tr>\n",
       "      <td>8</td>\n",
       "      <td>FSA_1e-10_5_2_0.1</td>\n",
       "      <td>1.000000e-10</td>\n",
       "      <td>5</td>\n",
       "      <td>0.10</td>\n",
       "      <td>12.500000</td>\n",
       "      <td>1.0</td>\n",
       "      <td>0.08</td>\n",
       "    </tr>\n",
       "    <tr>\n",
       "      <td>7</td>\n",
       "      <td>FSA_1e-10_5_2_0.01</td>\n",
       "      <td>1.000000e-10</td>\n",
       "      <td>5</td>\n",
       "      <td>0.01</td>\n",
       "      <td>16.666667</td>\n",
       "      <td>1.0</td>\n",
       "      <td>0.06</td>\n",
       "    </tr>\n",
       "    <tr>\n",
       "      <td>2</td>\n",
       "      <td>FSA_1e-10_10_2_0.5</td>\n",
       "      <td>1.000000e-10</td>\n",
       "      <td>10</td>\n",
       "      <td>0.50</td>\n",
       "      <td>25.000000</td>\n",
       "      <td>1.0</td>\n",
       "      <td>0.04</td>\n",
       "    </tr>\n",
       "    <tr>\n",
       "      <td>5</td>\n",
       "      <td>FSA_1e-10_3_2_0.5</td>\n",
       "      <td>1.000000e-10</td>\n",
       "      <td>3</td>\n",
       "      <td>0.50</td>\n",
       "      <td>25.000000</td>\n",
       "      <td>1.0</td>\n",
       "      <td>0.04</td>\n",
       "    </tr>\n",
       "    <tr>\n",
       "      <td>10</td>\n",
       "      <td>FSA_1e-10_5_2_0.5</td>\n",
       "      <td>1.000000e-10</td>\n",
       "      <td>5</td>\n",
       "      <td>0.50</td>\n",
       "      <td>25.000000</td>\n",
       "      <td>1.0</td>\n",
       "      <td>0.04</td>\n",
       "    </tr>\n",
       "  </tbody>\n",
       "</table>\n",
       "</div>"
      ],
      "text/plain": [
       "                  heur            T0  n0     r        feo  mne   rel\n",
       "8    FSA_1e-10_5_2_0.1  1.000000e-10   5  0.10  12.500000  1.0  0.08\n",
       "7   FSA_1e-10_5_2_0.01  1.000000e-10   5  0.01  16.666667  1.0  0.06\n",
       "2   FSA_1e-10_10_2_0.5  1.000000e-10  10  0.50  25.000000  1.0  0.04\n",
       "5    FSA_1e-10_3_2_0.5  1.000000e-10   3  0.50  25.000000  1.0  0.04\n",
       "10   FSA_1e-10_5_2_0.5  1.000000e-10   5  0.50  25.000000  1.0  0.04"
      ]
     },
     "execution_count": 39,
     "metadata": {},
     "output_type": "execute_result"
    }
   ],
   "source": [
    "stats_fsa.sort_values(by=['feo']).head(5)"
   ]
  },
  {
   "cell_type": "markdown",
   "metadata": {},
   "source": [
    "## Conclusion"
   ]
  },
  {
   "cell_type": "markdown",
   "metadata": {},
   "source": [
    "- FSA performed similarly at the initial temperature $T0 = 1e-2$ and $T0 = 1$.\n",
    "- An attempt to increase the objective function value by changing the $r$ mutation\n",
    "parameter also was not successful.\n",
    "- FSA did not reach the optimal value in $683$ experiments, and in $17$ cases it achieved\n",
    "the optima at the first run. It can be assumed that this behaviour is not trustable,\n",
    "and the optimal values are just random. So, the MNE values are not credible in that\n",
    "case."
   ]
  }
 ],
 "metadata": {
  "kernelspec": {
   "display_name": "Python 3",
   "language": "python",
   "name": "python3"
  },
  "language_info": {
   "codemirror_mode": {
    "name": "ipython",
    "version": 3
   },
   "file_extension": ".py",
   "mimetype": "text/x-python",
   "name": "python",
   "nbconvert_exporter": "python",
   "pygments_lexer": "ipython3",
   "version": "3.7.4"
  }
 },
 "nbformat": 4,
 "nbformat_minor": 2
}
