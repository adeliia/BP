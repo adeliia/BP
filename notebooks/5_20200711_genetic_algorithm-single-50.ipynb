{
 "cells": [
  {
   "cell_type": "markdown",
   "metadata": {},
   "source": [
    "# Genetic Optimization (GO) "
   ]
  },
  {
   "cell_type": "code",
   "execution_count": 1,
   "metadata": {},
   "outputs": [],
   "source": [
    "# Import path to source directory (bit of a hack in Jupyter)\n",
    "import sys\n",
    "import os\n",
    "pwd = %pwd\n",
    "sys.path.append(os.path.join(pwd, os.path.join('..', 'src')))\n",
    "\n",
    "# Ensure modules are reloaded on any change (very useful when developing code on the fly)\n",
    "%load_ext autoreload\n",
    "%autoreload 2"
   ]
  },
  {
   "cell_type": "code",
   "execution_count": 2,
   "metadata": {},
   "outputs": [],
   "source": [
    "# Import external libraries\n",
    "import numpy as np\n",
    "import pandas as pd\n",
    "from tqdm.notebook import tqdm\n",
    "\n",
    "import matplotlib\n",
    "%matplotlib inline\n",
    "import matplotlib.pyplot as plt\n",
    "import seaborn as sns\n",
    "sns.set() "
   ]
  },
  {
   "cell_type": "code",
   "execution_count": 3,
   "metadata": {},
   "outputs": [],
   "source": [
    "# initialization\n",
    "from objfun_node2vec import N2V\n",
    "n2v = N2V('../data/clear_cluster_test/one_eighth.csv',\n",
    "            '../data/clear_cluster_test/labels.csv')"
   ]
  },
  {
   "cell_type": "markdown",
   "metadata": {},
   "source": [
    "__Experiment run__"
   ]
  },
  {
   "cell_type": "code",
   "execution_count": 4,
   "metadata": {},
   "outputs": [],
   "source": [
    "from heur_go_single import GeneticOptimization"
   ]
  },
  {
   "cell_type": "code",
   "execution_count": 5,
   "metadata": {},
   "outputs": [],
   "source": [
    "NUM_RUNS = 50 \n",
    "maxeval = 50 "
   ]
  },
  {
   "cell_type": "code",
   "execution_count": 6,
   "metadata": {},
   "outputs": [],
   "source": [
    "# traditional testing procedure setup\n",
    "def experiment_go(of, maxeval, num_runs, N):\n",
    "    results = []\n",
    "    heur_name = 'GO_{}'.format(N)\n",
    "    for i in tqdm(range(num_runs), 'Testing {}'.format(heur_name)):\n",
    "        result = GeneticOptimization(of, maxeval, N=N).search()\n",
    "        result['run'] = i\n",
    "        result['heur'] = heur_name\n",
    "        result['N'] = N\n",
    "        results.append(result)\n",
    "    return pd.DataFrame(results, columns=['heur', 'run', 'N', 'best_x', 'best_y', 'neval'])"
   ]
  },
  {
   "cell_type": "code",
   "execution_count": 7,
   "metadata": {},
   "outputs": [
    {
     "data": {
      "application/vnd.jupyter.widget-view+json": {
       "model_id": "5cd008ffebf24369837cf25d886c48b8",
       "version_major": 2,
       "version_minor": 0
      },
      "text/plain": [
       "HBox(children=(IntProgress(value=0, description='Testing GO_2', max=50, style=ProgressStyle(description_width=…"
      ]
     },
     "metadata": {},
     "output_type": "display_data"
    },
    {
     "name": "stdout",
     "output_type": "stream",
     "text": [
      "\n"
     ]
    },
    {
     "data": {
      "application/vnd.jupyter.widget-view+json": {
       "model_id": "b2aeaf4a695f473ca25b08801ebe8061",
       "version_major": 2,
       "version_minor": 0
      },
      "text/plain": [
       "HBox(children=(IntProgress(value=0, description='Testing GO_4', max=50, style=ProgressStyle(description_width=…"
      ]
     },
     "metadata": {},
     "output_type": "display_data"
    },
    {
     "name": "stdout",
     "output_type": "stream",
     "text": [
      "\n"
     ]
    },
    {
     "data": {
      "application/vnd.jupyter.widget-view+json": {
       "model_id": "3b5c1d536e5d48ae8425b061b2b275bd",
       "version_major": 2,
       "version_minor": 0
      },
      "text/plain": [
       "HBox(children=(IntProgress(value=0, description='Testing GO_8', max=50, style=ProgressStyle(description_width=…"
      ]
     },
     "metadata": {},
     "output_type": "display_data"
    },
    {
     "name": "stdout",
     "output_type": "stream",
     "text": [
      "\n"
     ]
    },
    {
     "data": {
      "application/vnd.jupyter.widget-view+json": {
       "model_id": "fd1c1f35899246bf8f2fdad2066e9a16",
       "version_major": 2,
       "version_minor": 0
      },
      "text/plain": [
       "HBox(children=(IntProgress(value=0, description='Testing GO_10', max=50, style=ProgressStyle(description_width…"
      ]
     },
     "metadata": {},
     "output_type": "display_data"
    },
    {
     "name": "stdout",
     "output_type": "stream",
     "text": [
      "\n"
     ]
    },
    {
     "data": {
      "application/vnd.jupyter.widget-view+json": {
       "model_id": "8b2a7094883a49439bc53dc58fb12e10",
       "version_major": 2,
       "version_minor": 0
      },
      "text/plain": [
       "HBox(children=(IntProgress(value=0, description='Testing GO_12', max=50, style=ProgressStyle(description_width…"
      ]
     },
     "metadata": {},
     "output_type": "display_data"
    },
    {
     "name": "stdout",
     "output_type": "stream",
     "text": [
      "\n"
     ]
    }
   ],
   "source": [
    "results = pd.DataFrame()\n",
    "for N in [2,4,8,10,12]:\n",
    "    res = experiment_go(of=n2v, maxeval=maxeval, num_runs=NUM_RUNS, N=N)\n",
    "    results = pd.concat([results, res], axis=0)"
   ]
  },
  {
   "cell_type": "code",
   "execution_count": 8,
   "metadata": {},
   "outputs": [
    {
     "data": {
      "text/html": [
       "<div>\n",
       "<style scoped>\n",
       "    .dataframe tbody tr th:only-of-type {\n",
       "        vertical-align: middle;\n",
       "    }\n",
       "\n",
       "    .dataframe tbody tr th {\n",
       "        vertical-align: top;\n",
       "    }\n",
       "\n",
       "    .dataframe thead th {\n",
       "        text-align: right;\n",
       "    }\n",
       "</style>\n",
       "<table border=\"1\" class=\"dataframe\">\n",
       "  <thead>\n",
       "    <tr style=\"text-align: right;\">\n",
       "      <th></th>\n",
       "      <th>heur</th>\n",
       "      <th>run</th>\n",
       "      <th>N</th>\n",
       "      <th>best_x</th>\n",
       "      <th>best_y</th>\n",
       "      <th>neval</th>\n",
       "    </tr>\n",
       "  </thead>\n",
       "  <tbody>\n",
       "    <tr>\n",
       "      <td>0</td>\n",
       "      <td>GO_2</td>\n",
       "      <td>0</td>\n",
       "      <td>2</td>\n",
       "      <td>[1.5218602237573098, 1.0, 10.0, 80.0, 10.0]</td>\n",
       "      <td>0.693182</td>\n",
       "      <td>inf</td>\n",
       "    </tr>\n",
       "    <tr>\n",
       "      <td>1</td>\n",
       "      <td>GO_2</td>\n",
       "      <td>1</td>\n",
       "      <td>2</td>\n",
       "      <td>[6.995274678675359, 1.0, 10.0, 80.0, 10.0]</td>\n",
       "      <td>0.464286</td>\n",
       "      <td>inf</td>\n",
       "    </tr>\n",
       "    <tr>\n",
       "      <td>2</td>\n",
       "      <td>GO_2</td>\n",
       "      <td>2</td>\n",
       "      <td>2</td>\n",
       "      <td>[3.163792506151784, 1.0, 10.0, 80.0, 10.0]</td>\n",
       "      <td>0.597826</td>\n",
       "      <td>inf</td>\n",
       "    </tr>\n",
       "    <tr>\n",
       "      <td>3</td>\n",
       "      <td>GO_2</td>\n",
       "      <td>3</td>\n",
       "      <td>2</td>\n",
       "      <td>[4.150653677202894, 1.0, 10.0, 80.0, 10.0]</td>\n",
       "      <td>0.554348</td>\n",
       "      <td>inf</td>\n",
       "    </tr>\n",
       "    <tr>\n",
       "      <td>4</td>\n",
       "      <td>GO_2</td>\n",
       "      <td>4</td>\n",
       "      <td>2</td>\n",
       "      <td>[2.0974301309819827, 1.0, 10.0, 80.0, 10.0]</td>\n",
       "      <td>0.797619</td>\n",
       "      <td>inf</td>\n",
       "    </tr>\n",
       "    <tr>\n",
       "      <td>...</td>\n",
       "      <td>...</td>\n",
       "      <td>...</td>\n",
       "      <td>...</td>\n",
       "      <td>...</td>\n",
       "      <td>...</td>\n",
       "      <td>...</td>\n",
       "    </tr>\n",
       "    <tr>\n",
       "      <td>45</td>\n",
       "      <td>GO_12</td>\n",
       "      <td>45</td>\n",
       "      <td>12</td>\n",
       "      <td>[0.49575669716602616, 1.0, 10.0, 80.0, 10.0]</td>\n",
       "      <td>1.000000</td>\n",
       "      <td>8.0</td>\n",
       "    </tr>\n",
       "    <tr>\n",
       "      <td>46</td>\n",
       "      <td>GO_12</td>\n",
       "      <td>46</td>\n",
       "      <td>12</td>\n",
       "      <td>[0.34241993202491683, 1.0, 10.0, 80.0, 10.0]</td>\n",
       "      <td>0.892857</td>\n",
       "      <td>inf</td>\n",
       "    </tr>\n",
       "    <tr>\n",
       "      <td>47</td>\n",
       "      <td>GO_12</td>\n",
       "      <td>47</td>\n",
       "      <td>12</td>\n",
       "      <td>[0.417579621964816, 1.0, 10.0, 80.0, 10.0]</td>\n",
       "      <td>1.000000</td>\n",
       "      <td>1.0</td>\n",
       "    </tr>\n",
       "    <tr>\n",
       "      <td>48</td>\n",
       "      <td>GO_12</td>\n",
       "      <td>48</td>\n",
       "      <td>12</td>\n",
       "      <td>[1.7384109835434334, 1.0, 10.0, 80.0, 10.0]</td>\n",
       "      <td>0.797619</td>\n",
       "      <td>inf</td>\n",
       "    </tr>\n",
       "    <tr>\n",
       "      <td>49</td>\n",
       "      <td>GO_12</td>\n",
       "      <td>49</td>\n",
       "      <td>12</td>\n",
       "      <td>[1.6235780839835252, 1.0, 10.0, 80.0, 10.0]</td>\n",
       "      <td>0.787402</td>\n",
       "      <td>inf</td>\n",
       "    </tr>\n",
       "  </tbody>\n",
       "</table>\n",
       "<p>250 rows × 6 columns</p>\n",
       "</div>"
      ],
      "text/plain": [
       "     heur  run   N                                        best_x    best_y  \\\n",
       "0    GO_2    0   2   [1.5218602237573098, 1.0, 10.0, 80.0, 10.0]  0.693182   \n",
       "1    GO_2    1   2    [6.995274678675359, 1.0, 10.0, 80.0, 10.0]  0.464286   \n",
       "2    GO_2    2   2    [3.163792506151784, 1.0, 10.0, 80.0, 10.0]  0.597826   \n",
       "3    GO_2    3   2    [4.150653677202894, 1.0, 10.0, 80.0, 10.0]  0.554348   \n",
       "4    GO_2    4   2   [2.0974301309819827, 1.0, 10.0, 80.0, 10.0]  0.797619   \n",
       "..    ...  ...  ..                                           ...       ...   \n",
       "45  GO_12   45  12  [0.49575669716602616, 1.0, 10.0, 80.0, 10.0]  1.000000   \n",
       "46  GO_12   46  12  [0.34241993202491683, 1.0, 10.0, 80.0, 10.0]  0.892857   \n",
       "47  GO_12   47  12    [0.417579621964816, 1.0, 10.0, 80.0, 10.0]  1.000000   \n",
       "48  GO_12   48  12   [1.7384109835434334, 1.0, 10.0, 80.0, 10.0]  0.797619   \n",
       "49  GO_12   49  12   [1.6235780839835252, 1.0, 10.0, 80.0, 10.0]  0.787402   \n",
       "\n",
       "    neval  \n",
       "0     inf  \n",
       "1     inf  \n",
       "2     inf  \n",
       "3     inf  \n",
       "4     inf  \n",
       "..    ...  \n",
       "45    8.0  \n",
       "46    inf  \n",
       "47    1.0  \n",
       "48    inf  \n",
       "49    inf  \n",
       "\n",
       "[250 rows x 6 columns]"
      ]
     },
     "execution_count": 8,
     "metadata": {},
     "output_type": "execute_result"
    }
   ],
   "source": [
    "results"
   ]
  },
  {
   "cell_type": "code",
   "execution_count": 9,
   "metadata": {},
   "outputs": [],
   "source": [
    "# import visualization libraries\n",
    "import matplotlib\n",
    "# %matplotlib notebook\n",
    "import matplotlib.pyplot as plt\n",
    "import seaborn as sns\n",
    "sns.set()"
   ]
  },
  {
   "cell_type": "code",
   "execution_count": 20,
   "metadata": {},
   "outputs": [
    {
     "data": {
      "image/png": "[encoded data removed]",
      "text/plain": [
       "<Figure size 432x288 with 1 Axes>"
      ]
     },
     "metadata": {},
     "output_type": "display_data"
    }
   ],
   "source": [
    "ax = sns.boxplot(x=\"N\", y=\"best_y\", data=results)"
   ]
  },
  {
   "cell_type": "markdown",
   "metadata": {},
   "source": [
    "__Number of evaluations (when successful), based on N?__"
   ]
  },
  {
   "cell_type": "code",
   "execution_count": 10,
   "metadata": {},
   "outputs": [],
   "source": [
    "results['success'] = results['neval'] < np.inf"
   ]
  },
  {
   "cell_type": "code",
   "execution_count": 11,
   "metadata": {},
   "outputs": [
    {
     "data": {
      "text/html": [
       "<div>\n",
       "<style scoped>\n",
       "    .dataframe tbody tr th:only-of-type {\n",
       "        vertical-align: middle;\n",
       "    }\n",
       "\n",
       "    .dataframe tbody tr th {\n",
       "        vertical-align: top;\n",
       "    }\n",
       "\n",
       "    .dataframe thead th {\n",
       "        text-align: right;\n",
       "    }\n",
       "</style>\n",
       "<table border=\"1\" class=\"dataframe\">\n",
       "  <thead>\n",
       "    <tr style=\"text-align: right;\">\n",
       "      <th></th>\n",
       "      <th>heur</th>\n",
       "      <th>run</th>\n",
       "      <th>N</th>\n",
       "      <th>best_x</th>\n",
       "      <th>best_y</th>\n",
       "      <th>neval</th>\n",
       "      <th>success</th>\n",
       "    </tr>\n",
       "  </thead>\n",
       "  <tbody>\n",
       "    <tr>\n",
       "      <td>5</td>\n",
       "      <td>GO_2</td>\n",
       "      <td>5</td>\n",
       "      <td>2</td>\n",
       "      <td>[0.9286342316642069, 1.0, 10.0, 80.0, 10.0]</td>\n",
       "      <td>1.0</td>\n",
       "      <td>22.0</td>\n",
       "      <td>True</td>\n",
       "    </tr>\n",
       "    <tr>\n",
       "      <td>13</td>\n",
       "      <td>GO_2</td>\n",
       "      <td>13</td>\n",
       "      <td>2</td>\n",
       "      <td>[0.4935899701959263, 1.0, 10.0, 80.0, 10.0]</td>\n",
       "      <td>1.0</td>\n",
       "      <td>20.0</td>\n",
       "      <td>True</td>\n",
       "    </tr>\n",
       "    <tr>\n",
       "      <td>14</td>\n",
       "      <td>GO_2</td>\n",
       "      <td>14</td>\n",
       "      <td>2</td>\n",
       "      <td>[0.6217050076146173, 1.0, 10.0, 80.0, 10.0]</td>\n",
       "      <td>1.0</td>\n",
       "      <td>1.0</td>\n",
       "      <td>True</td>\n",
       "    </tr>\n",
       "    <tr>\n",
       "      <td>22</td>\n",
       "      <td>GO_2</td>\n",
       "      <td>22</td>\n",
       "      <td>2</td>\n",
       "      <td>[0.5897681613416177, 1.0, 10.0, 80.0, 10.0]</td>\n",
       "      <td>1.0</td>\n",
       "      <td>14.0</td>\n",
       "      <td>True</td>\n",
       "    </tr>\n",
       "    <tr>\n",
       "      <td>35</td>\n",
       "      <td>GO_2</td>\n",
       "      <td>35</td>\n",
       "      <td>2</td>\n",
       "      <td>[0.5584404788660728, 1.0, 10.0, 80.0, 10.0]</td>\n",
       "      <td>1.0</td>\n",
       "      <td>6.0</td>\n",
       "      <td>True</td>\n",
       "    </tr>\n",
       "  </tbody>\n",
       "</table>\n",
       "</div>"
      ],
      "text/plain": [
       "    heur  run  N                                       best_x  best_y  neval  \\\n",
       "5   GO_2    5  2  [0.9286342316642069, 1.0, 10.0, 80.0, 10.0]     1.0   22.0   \n",
       "13  GO_2   13  2  [0.4935899701959263, 1.0, 10.0, 80.0, 10.0]     1.0   20.0   \n",
       "14  GO_2   14  2  [0.6217050076146173, 1.0, 10.0, 80.0, 10.0]     1.0    1.0   \n",
       "22  GO_2   22  2  [0.5897681613416177, 1.0, 10.0, 80.0, 10.0]     1.0   14.0   \n",
       "35  GO_2   35  2  [0.5584404788660728, 1.0, 10.0, 80.0, 10.0]     1.0    6.0   \n",
       "\n",
       "    success  \n",
       "5      True  \n",
       "13     True  \n",
       "14     True  \n",
       "22     True  \n",
       "35     True  "
      ]
     },
     "execution_count": 11,
     "metadata": {},
     "output_type": "execute_result"
    }
   ],
   "source": [
    "results[results['success'] == True].head()"
   ]
  },
  {
   "cell_type": "code",
   "execution_count": 12,
   "metadata": {},
   "outputs": [
    {
     "data": {
      "text/plain": [
       "N\n",
       "2     12.600000\n",
       "4     15.500000\n",
       "8     10.500000\n",
       "10    14.600000\n",
       "12    16.272727\n",
       "Name: neval, dtype: float64"
      ]
     },
     "execution_count": 12,
     "metadata": {},
     "output_type": "execute_result"
    }
   ],
   "source": [
    "results[results['success'] == True].groupby(['N'])['neval'].mean()"
   ]
  },
  {
   "cell_type": "code",
   "execution_count": 13,
   "metadata": {},
   "outputs": [
    {
     "data": {
      "text/plain": [
       "N\n",
       "2     14.0\n",
       "4      8.5\n",
       "8      7.0\n",
       "10     4.0\n",
       "12     9.0\n",
       "Name: neval, dtype: float64"
      ]
     },
     "execution_count": 13,
     "metadata": {},
     "output_type": "execute_result"
    }
   ],
   "source": [
    "results[results['success'] == True].groupby(['N'])['neval'].median()"
   ]
  },
  {
   "cell_type": "code",
   "execution_count": 14,
   "metadata": {},
   "outputs": [
    {
     "data": {
      "image/png": "[encoded data removed]",
      "text/plain": [
       "<Figure size 432x288 with 1 Axes>"
      ]
     },
     "metadata": {},
     "output_type": "display_data"
    }
   ],
   "source": [
    "ax2 = sns.boxplot(x=\"N\", y=\"neval\", data=results[results['success'] == True])"
   ]
  },
  {
   "cell_type": "code",
   "execution_count": 15,
   "metadata": {},
   "outputs": [],
   "source": [
    "# performance criteria\n",
    "def rel(x):\n",
    "    return len([n for n in x if n < np.inf])/len(x)\n",
    "def mne(x):\n",
    "    return np.mean([n for n in x if n < np.inf])\n",
    "def feo(x):\n",
    "    return mne(x)/rel(x)"
   ]
  },
  {
   "cell_type": "code",
   "execution_count": 16,
   "metadata": {},
   "outputs": [
    {
     "data": {
      "text/html": [
       "<div>\n",
       "<style scoped>\n",
       "    .dataframe tbody tr th:only-of-type {\n",
       "        vertical-align: middle;\n",
       "    }\n",
       "\n",
       "    .dataframe tbody tr th {\n",
       "        vertical-align: top;\n",
       "    }\n",
       "\n",
       "    .dataframe thead th {\n",
       "        text-align: right;\n",
       "    }\n",
       "</style>\n",
       "<table border=\"1\" class=\"dataframe\">\n",
       "  <thead>\n",
       "    <tr style=\"text-align: right;\">\n",
       "      <th></th>\n",
       "      <th>heur</th>\n",
       "      <th>N</th>\n",
       "      <th>feo</th>\n",
       "      <th>mne</th>\n",
       "      <th>rel</th>\n",
       "    </tr>\n",
       "  </thead>\n",
       "  <tbody>\n",
       "    <tr>\n",
       "      <td>2</td>\n",
       "      <td>GO_2</td>\n",
       "      <td>2</td>\n",
       "      <td>126.000000</td>\n",
       "      <td>12.600000</td>\n",
       "      <td>0.10</td>\n",
       "    </tr>\n",
       "    <tr>\n",
       "      <td>3</td>\n",
       "      <td>GO_4</td>\n",
       "      <td>4</td>\n",
       "      <td>129.166667</td>\n",
       "      <td>15.500000</td>\n",
       "      <td>0.12</td>\n",
       "    </tr>\n",
       "    <tr>\n",
       "      <td>4</td>\n",
       "      <td>GO_8</td>\n",
       "      <td>8</td>\n",
       "      <td>65.625000</td>\n",
       "      <td>10.500000</td>\n",
       "      <td>0.16</td>\n",
       "    </tr>\n",
       "    <tr>\n",
       "      <td>0</td>\n",
       "      <td>GO_10</td>\n",
       "      <td>10</td>\n",
       "      <td>73.000000</td>\n",
       "      <td>14.600000</td>\n",
       "      <td>0.20</td>\n",
       "    </tr>\n",
       "    <tr>\n",
       "      <td>1</td>\n",
       "      <td>GO_12</td>\n",
       "      <td>12</td>\n",
       "      <td>73.966942</td>\n",
       "      <td>16.272727</td>\n",
       "      <td>0.22</td>\n",
       "    </tr>\n",
       "  </tbody>\n",
       "</table>\n",
       "</div>"
      ],
      "text/plain": [
       "    heur   N         feo        mne   rel\n",
       "2   GO_2   2  126.000000  12.600000  0.10\n",
       "3   GO_4   4  129.166667  15.500000  0.12\n",
       "4   GO_8   8   65.625000  10.500000  0.16\n",
       "0  GO_10  10   73.000000  14.600000  0.20\n",
       "1  GO_12  12   73.966942  16.272727  0.22"
      ]
     },
     "execution_count": 16,
     "metadata": {},
     "output_type": "execute_result"
    }
   ],
   "source": [
    "results_pivot = results.pivot_table(\n",
    "    index=['heur', 'N'],\n",
    "    values=['neval'],\n",
    "    aggfunc=(rel, mne, feo)\n",
    ")['neval']\n",
    "results_pivot = results_pivot.reset_index()\n",
    "results_pivot.sort_values(by='N')"
   ]
  },
  {
   "cell_type": "code",
   "execution_count": 18,
   "metadata": {},
   "outputs": [
    {
     "data": {
      "text/html": [
       "<div>\n",
       "<style scoped>\n",
       "    .dataframe tbody tr th:only-of-type {\n",
       "        vertical-align: middle;\n",
       "    }\n",
       "\n",
       "    .dataframe tbody tr th {\n",
       "        vertical-align: top;\n",
       "    }\n",
       "\n",
       "    .dataframe thead th {\n",
       "        text-align: right;\n",
       "    }\n",
       "</style>\n",
       "<table border=\"1\" class=\"dataframe\">\n",
       "  <thead>\n",
       "    <tr style=\"text-align: right;\">\n",
       "      <th></th>\n",
       "      <th>heur</th>\n",
       "      <th>N</th>\n",
       "      <th>feo</th>\n",
       "      <th>mne</th>\n",
       "      <th>rel</th>\n",
       "    </tr>\n",
       "  </thead>\n",
       "  <tbody>\n",
       "    <tr>\n",
       "      <td>4</td>\n",
       "      <td>GO_8</td>\n",
       "      <td>8</td>\n",
       "      <td>65.625000</td>\n",
       "      <td>10.500000</td>\n",
       "      <td>0.16</td>\n",
       "    </tr>\n",
       "    <tr>\n",
       "      <td>0</td>\n",
       "      <td>GO_10</td>\n",
       "      <td>10</td>\n",
       "      <td>73.000000</td>\n",
       "      <td>14.600000</td>\n",
       "      <td>0.20</td>\n",
       "    </tr>\n",
       "    <tr>\n",
       "      <td>1</td>\n",
       "      <td>GO_12</td>\n",
       "      <td>12</td>\n",
       "      <td>73.966942</td>\n",
       "      <td>16.272727</td>\n",
       "      <td>0.22</td>\n",
       "    </tr>\n",
       "  </tbody>\n",
       "</table>\n",
       "</div>"
      ],
      "text/plain": [
       "    heur   N        feo        mne   rel\n",
       "4   GO_8   8  65.625000  10.500000  0.16\n",
       "0  GO_10  10  73.000000  14.600000  0.20\n",
       "1  GO_12  12  73.966942  16.272727  0.22"
      ]
     },
     "execution_count": 18,
     "metadata": {},
     "output_type": "execute_result"
    }
   ],
   "source": [
    "results_pivot.sort_values(by=['feo']).head(3)"
   ]
  },
  {
   "cell_type": "code",
   "execution_count": 21,
   "metadata": {},
   "outputs": [
    {
     "data": {
      "text/plain": [
       "0.7970411613455568"
      ]
     },
     "execution_count": 21,
     "metadata": {},
     "output_type": "execute_result"
    }
   ],
   "source": [
    "results['best_y'].mean()"
   ]
  },
  {
   "cell_type": "code",
   "execution_count": 23,
   "metadata": {},
   "outputs": [
    {
     "data": {
      "text/plain": [
       "0.7976190476190477"
      ]
     },
     "execution_count": 23,
     "metadata": {},
     "output_type": "execute_result"
    }
   ],
   "source": [
    "results['best_y'].median()"
   ]
  },
  {
   "cell_type": "code",
   "execution_count": 25,
   "metadata": {},
   "outputs": [
    {
     "data": {
      "text/plain": [
       "0    0.892857\n",
       "dtype: float64"
      ]
     },
     "execution_count": 25,
     "metadata": {},
     "output_type": "execute_result"
    }
   ],
   "source": [
    "results['best_y'].mode()"
   ]
  },
  {
   "cell_type": "code",
   "execution_count": 26,
   "metadata": {},
   "outputs": [
    {
     "data": {
      "text/plain": [
       "1.0"
      ]
     },
     "execution_count": 26,
     "metadata": {},
     "output_type": "execute_result"
    }
   ],
   "source": [
    "results['best_y'].max()"
   ]
  },
  {
   "cell_type": "markdown",
   "metadata": {},
   "source": [
    "## Conclusion"
   ]
  },
  {
   "cell_type": "markdown",
   "metadata": {},
   "source": [
    "- According to the statistics the algorithm worked fast with population size of $2$ and $12$.\n",
    "- According to FEO, two solutions in one population give the most reliable results in\n",
    "the Genetic heuristics."
   ]
  }
 ],
 "metadata": {
  "kernelspec": {
   "display_name": "Python 3",
   "language": "python",
   "name": "python3"
  },
  "language_info": {
   "codemirror_mode": {
    "name": "ipython",
    "version": 3
   },
   "file_extension": ".py",
   "mimetype": "text/x-python",
   "name": "python",
   "nbconvert_exporter": "python",
   "pygments_lexer": "ipython3",
   "version": "3.7.4"
  }
 },
 "nbformat": 4,
 "nbformat_minor": 2
}
